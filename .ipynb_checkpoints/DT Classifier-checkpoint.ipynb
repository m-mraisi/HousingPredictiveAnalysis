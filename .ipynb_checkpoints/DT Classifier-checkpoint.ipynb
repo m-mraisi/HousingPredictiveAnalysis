{
 "cells": [
  {
   "cell_type": "code",
   "execution_count": 122,
   "metadata": {},
   "outputs": [],
   "source": [
    "import pandas as pd \n",
    "import numpy as np\n",
    "from sklearn import tree\n",
    "from sklearn.model_selection import train_test_split\n",
    "from sklearn.metrics import mean_absolute_error\n",
    "pd.options.mode.chained_assignment = None  # default='warn'"
   ]
  },
  {
   "cell_type": "code",
   "execution_count": 123,
   "metadata": {},
   "outputs": [
    {
     "data": {
      "text/html": [
       "<div>\n",
       "<style scoped>\n",
       "    .dataframe tbody tr th:only-of-type {\n",
       "        vertical-align: middle;\n",
       "    }\n",
       "\n",
       "    .dataframe tbody tr th {\n",
       "        vertical-align: top;\n",
       "    }\n",
       "\n",
       "    .dataframe thead th {\n",
       "        text-align: right;\n",
       "    }\n",
       "</style>\n",
       "<table border=\"1\" class=\"dataframe\">\n",
       "  <thead>\n",
       "    <tr style=\"text-align: right;\">\n",
       "      <th></th>\n",
       "      <th>index</th>\n",
       "      <th>title</th>\n",
       "      <th>final_price</th>\n",
       "      <th>list_price</th>\n",
       "      <th>bedrooms</th>\n",
       "      <th>bathrooms</th>\n",
       "      <th>sqft</th>\n",
       "      <th>parking</th>\n",
       "      <th>description</th>\n",
       "      <th>mls</th>\n",
       "      <th>type</th>\n",
       "      <th>full_link</th>\n",
       "      <th>full_address</th>\n",
       "      <th>lat</th>\n",
       "      <th>long</th>\n",
       "      <th>city_district</th>\n",
       "      <th>mean_district_income</th>\n",
       "      <th>district_code</th>\n",
       "    </tr>\n",
       "  </thead>\n",
       "  <tbody>\n",
       "    <tr>\n",
       "      <th>0</th>\n",
       "      <td>0</td>\n",
       "      <td>1303 - 38 Grenville St, Toronto (C4461599) | Z...</td>\n",
       "      <td>855000</td>\n",
       "      <td>870000</td>\n",
       "      <td>2 + 1 beds</td>\n",
       "      <td>2 baths</td>\n",
       "      <td>800–899 sq. ft.</td>\n",
       "      <td>1 parking</td>\n",
       "      <td>Luxurious And Spacious Murano Tower. 2+1, 2 Ba...</td>\n",
       "      <td>C4461599</td>\n",
       "      <td>Condo Apt</td>\n",
       "      <td>https://www.zoocasa.com/toronto-on-real-estate...</td>\n",
       "      <td>38 Grenville St, Toronto , Ontario, Canada</td>\n",
       "      <td>43.661896</td>\n",
       "      <td>-79.385748</td>\n",
       "      <td>Bay Street Corridor</td>\n",
       "      <td>56526</td>\n",
       "      <td>76</td>\n",
       "    </tr>\n",
       "    <tr>\n",
       "      <th>1</th>\n",
       "      <td>1</td>\n",
       "      <td>2 Cabot Crt, Toronto (W4502992) | Zoocasa</td>\n",
       "      <td>885000</td>\n",
       "      <td>898000</td>\n",
       "      <td>3 beds</td>\n",
       "      <td>2 baths</td>\n",
       "      <td>N/A sq. ft.</td>\n",
       "      <td>6 parking</td>\n",
       "      <td>Fantastic Opportunity To Live Within The Histo...</td>\n",
       "      <td>W4502992</td>\n",
       "      <td>Semi-Detached</td>\n",
       "      <td>https://www.zoocasa.com/toronto-on-real-estate...</td>\n",
       "      <td>2 Cabot Crt, Toronto , Ontario, Canada</td>\n",
       "      <td>43.646982</td>\n",
       "      <td>-79.530356</td>\n",
       "      <td>Islington-City Centre West</td>\n",
       "      <td>52787</td>\n",
       "      <td>14</td>\n",
       "    </tr>\n",
       "    <tr>\n",
       "      <th>2</th>\n",
       "      <td>2</td>\n",
       "      <td>1504 - 30 Roehampton Ave, Toronto (C4511330) |...</td>\n",
       "      <td>550000</td>\n",
       "      <td>549900</td>\n",
       "      <td>1 beds</td>\n",
       "      <td>1 baths</td>\n",
       "      <td>500–599 sq. ft.</td>\n",
       "      <td>no parking</td>\n",
       "      <td>Bright Sunfilled Spacious 1 Bdr Unit; Floor To...</td>\n",
       "      <td>C4511330</td>\n",
       "      <td>Condo Apt</td>\n",
       "      <td>https://www.zoocasa.com/toronto-on-real-estate...</td>\n",
       "      <td>30 Roehampton Ave, Toronto , Ontario, Canada</td>\n",
       "      <td>43.708472</td>\n",
       "      <td>-79.397498</td>\n",
       "      <td>Mount Pleasant West</td>\n",
       "      <td>57039</td>\n",
       "      <td>104</td>\n",
       "    </tr>\n",
       "    <tr>\n",
       "      <th>3</th>\n",
       "      <td>3</td>\n",
       "      <td>514 - 65 East Liberty St, Toronto (C4515763) |...</td>\n",
       "      <td>665000</td>\n",
       "      <td>600000</td>\n",
       "      <td>1 + 1 beds</td>\n",
       "      <td>1 baths</td>\n",
       "      <td>600–699 sq. ft.</td>\n",
       "      <td>1 parking</td>\n",
       "      <td>Rare Loft-Like Condo In Liberty Village W/ 18'...</td>\n",
       "      <td>C4515763</td>\n",
       "      <td>Condo Apt</td>\n",
       "      <td>https://www.zoocasa.com/toronto-on-real-estate...</td>\n",
       "      <td>65 East Liberty St, Toronto , Ontario, Canada</td>\n",
       "      <td>43.638399</td>\n",
       "      <td>-79.414448</td>\n",
       "      <td>Niagara</td>\n",
       "      <td>70623</td>\n",
       "      <td>82</td>\n",
       "    </tr>\n",
       "    <tr>\n",
       "      <th>4</th>\n",
       "      <td>4</td>\n",
       "      <td>61 Twelfth St, Toronto (W4519375) | Zoocasa</td>\n",
       "      <td>825513</td>\n",
       "      <td>839000</td>\n",
       "      <td>2 beds</td>\n",
       "      <td>2 baths</td>\n",
       "      <td>N/A sq. ft.</td>\n",
       "      <td>1 parking</td>\n",
       "      <td>Location! Location! Location. Your Cottage In ...</td>\n",
       "      <td>W4519375</td>\n",
       "      <td>Detached</td>\n",
       "      <td>https://www.zoocasa.com/toronto-on-real-estate...</td>\n",
       "      <td>61 Twelfth St, Toronto , Ontario, Canada</td>\n",
       "      <td>43.597096</td>\n",
       "      <td>-79.509612</td>\n",
       "      <td>New Toronto</td>\n",
       "      <td>44101</td>\n",
       "      <td>18</td>\n",
       "    </tr>\n",
       "  </tbody>\n",
       "</table>\n",
       "</div>"
      ],
      "text/plain": [
       "   index                                              title  final_price  \\\n",
       "0      0  1303 - 38 Grenville St, Toronto (C4461599) | Z...       855000   \n",
       "1      1          2 Cabot Crt, Toronto (W4502992) | Zoocasa       885000   \n",
       "2      2  1504 - 30 Roehampton Ave, Toronto (C4511330) |...       550000   \n",
       "3      3  514 - 65 East Liberty St, Toronto (C4515763) |...       665000   \n",
       "4      4        61 Twelfth St, Toronto (W4519375) | Zoocasa       825513   \n",
       "\n",
       "   list_price    bedrooms bathrooms             sqft     parking  \\\n",
       "0      870000  2 + 1 beds   2 baths  800–899 sq. ft.   1 parking   \n",
       "1      898000      3 beds   2 baths      N/A sq. ft.   6 parking   \n",
       "2      549900      1 beds   1 baths  500–599 sq. ft.  no parking   \n",
       "3      600000  1 + 1 beds   1 baths  600–699 sq. ft.   1 parking   \n",
       "4      839000      2 beds   2 baths      N/A sq. ft.   1 parking   \n",
       "\n",
       "                                         description       mls           type  \\\n",
       "0  Luxurious And Spacious Murano Tower. 2+1, 2 Ba...  C4461599      Condo Apt   \n",
       "1  Fantastic Opportunity To Live Within The Histo...  W4502992  Semi-Detached   \n",
       "2  Bright Sunfilled Spacious 1 Bdr Unit; Floor To...  C4511330      Condo Apt   \n",
       "3  Rare Loft-Like Condo In Liberty Village W/ 18'...  C4515763      Condo Apt   \n",
       "4  Location! Location! Location. Your Cottage In ...  W4519375       Detached   \n",
       "\n",
       "                                           full_link  \\\n",
       "0  https://www.zoocasa.com/toronto-on-real-estate...   \n",
       "1  https://www.zoocasa.com/toronto-on-real-estate...   \n",
       "2  https://www.zoocasa.com/toronto-on-real-estate...   \n",
       "3  https://www.zoocasa.com/toronto-on-real-estate...   \n",
       "4  https://www.zoocasa.com/toronto-on-real-estate...   \n",
       "\n",
       "                                     full_address        lat       long  \\\n",
       "0      38 Grenville St, Toronto , Ontario, Canada  43.661896 -79.385748   \n",
       "1          2 Cabot Crt, Toronto , Ontario, Canada  43.646982 -79.530356   \n",
       "2    30 Roehampton Ave, Toronto , Ontario, Canada  43.708472 -79.397498   \n",
       "3   65 East Liberty St, Toronto , Ontario, Canada  43.638399 -79.414448   \n",
       "4        61 Twelfth St, Toronto , Ontario, Canada  43.597096 -79.509612   \n",
       "\n",
       "                city_district  mean_district_income  district_code  \n",
       "0         Bay Street Corridor                 56526             76  \n",
       "1  Islington-City Centre West                 52787             14  \n",
       "2         Mount Pleasant West                 57039            104  \n",
       "3                     Niagara                 70623             82  \n",
       "4                 New Toronto                 44101             18  "
      ]
     },
     "execution_count": 123,
     "metadata": {},
     "output_type": "execute_result"
    }
   ],
   "source": [
    "df = pd.read_csv(\"https://raw.githubusercontent.com/slavaspirin/Toronto-housing-price-prediction/master/houses.csv\")\n",
    "original_data = df.copy()\n",
    "df.head()"
   ]
  },
  {
   "cell_type": "code",
   "execution_count": 124,
   "metadata": {},
   "outputs": [],
   "source": [
    "def cleansing_function(df):\n",
    "    df = df.copy()\n",
    "    abnType = df['type'].unique()[5] ## taking out the abnormal hosue type\n",
    "    df = df[df['type']!= abnType]\n",
    "    ## checking all the cities that are in the data\n",
    "\n",
    "    '''\n",
    "    we are going to split the data using the \",\" and then split based on teh space and get the city from each one,\n",
    "\n",
    "    This will be added to a new column called \"city\"\n",
    "    '''\n",
    "    df[\"city\"] = df[\"full_address\"].apply(lambda x: x.split(\",\")[1].split(\" \")[1].upper())\n",
    "    ## now we will exclude the only row with the value \"OUT\" as city\n",
    "\n",
    "    df = df[df[\"city\"] != \"OUT\"]\n",
    "    ## now let's clean the bedrooms column\n",
    "\n",
    "    df[\"bedrooms\"] = df[\"bedrooms\"].apply(lambda x: ' '.join(x.split(\" \")))\n",
    "\n",
    "    for i,n in enumerate(df[\"bedrooms\"]):\n",
    "        df[\"bedrooms\"].iloc[i] = max([int(s) for s in n.split() if s.isdigit()])\n",
    "    ## now let's clean the bathrooms column\n",
    "\n",
    "    df[\"bathrooms\"] = df[\"bathrooms\"].apply(lambda x: int(''.join(x.lower()).replace(\"baths\", '')))\n",
    "    ## now let's clean the parking column\n",
    "    df[\"parking\"] = df[\"parking\"].apply(lambda x:    str(x).replace('no parking', '0')  )\n",
    "    df[\"parking\"] = df[\"parking\"].apply(lambda x:    int(str(x).replace(' parking', '')  ))\n",
    "    \n",
    "    ## cleaning the type column\n",
    "\n",
    "    df[\"type\"] = df[\"type\"].str.upper()\n",
    "\n",
    "    for i,t in enumerate(df[\"type\"]):\n",
    "        if \"APT\" in t:\n",
    "            df[\"type\"].iloc[i] = \"APT\"\n",
    "        elif \"CONDO\" in t:\n",
    "            df[\"type\"].iloc[i] = \"CONDO\"\n",
    "        elif \"DETACHED\" in t:\n",
    "            df[\"type\"].iloc[i] = \"DETACHED_HOUSE\"\n",
    "        elif \"TWNHOUSE\" in t:\n",
    "            df[\"type\"].iloc[i] = \"TWNHOUSE\"\n",
    "    df[\"type\"] = df[\"type\"][df[\"type\"] != \"COTTAGE\"][df[\"type\"] != \"FOURPLEX\"]\n",
    "    \n",
    "    ## counting out rows that have bathrooms more than bedrooms\n",
    "    df = df.query(\"bedrooms >= bathrooms\")\n",
    "    \n",
    "    ## cleaning the sqft column and applying the average on each value\n",
    "    sqft = df[\"sqft\"].str.split(\" \", 1).apply(lambda x: x[0])\n",
    "    sqft.replace({\"N/A\": \"0-0\"}, inplace=True)\n",
    "    sqft = sqft.apply(lambda x: re.split('–|-',x))\n",
    "\n",
    "    sqft = sqft.apply(lambda x: min(int(x[0]) , int(x[1])))\n",
    "    sqft.replace({0: np.nan}, inplace=True)\n",
    "    df[\"sqft\"] = sqft\n",
    "    \n",
    "    frames = []\n",
    "    for room in list(set(df['bedrooms'])):\n",
    "        df_rooms = df[df['bedrooms']== room]\n",
    "        df_rooms['sqft'].fillna(df_rooms['sqft'].min(),inplace = True)\n",
    "        frames.append(df_rooms)\n",
    "    final_df = pd.concat(frames)\n",
    "    final_df = final_df.reset_index().drop(columns=['index', 'level_0'])\n",
    "    final_df[\"sqft\"] = final_df[\"sqft\"].round()\n",
    "    df = final_df\n",
    "    return df\n"
   ]
  },
  {
   "cell_type": "code",
   "execution_count": 125,
   "metadata": {},
   "outputs": [
    {
     "data": {
      "text/plain": [
       "(13310, 18)"
      ]
     },
     "execution_count": 125,
     "metadata": {},
     "output_type": "execute_result"
    }
   ],
   "source": [
    "df = cleansing_function(df)\n",
    "df.shape"
   ]
  },
  {
   "cell_type": "code",
   "execution_count": 126,
   "metadata": {},
   "outputs": [],
   "source": [
    "df = df[df[\"final_price\"]<= 2000000]"
   ]
  },
  {
   "cell_type": "code",
   "execution_count": 127,
   "metadata": {},
   "outputs": [
    {
     "data": {
      "text/plain": [
       "(12969, 18)"
      ]
     },
     "execution_count": 127,
     "metadata": {},
     "output_type": "execute_result"
    }
   ],
   "source": [
    "df.shape"
   ]
  },
  {
   "cell_type": "code",
   "execution_count": 128,
   "metadata": {},
   "outputs": [],
   "source": [
    "## here we are going to categorise the final_price target\n",
    "df[\"price_category\"] = np.nan\n",
    "for i,price in enumerate(df[\"final_price\"]):\n",
    "    if price <= 500000:\n",
    "        df[\"price_category\"].iloc[i] = int(0)\n",
    "    elif price <= 1000000 and price > 500000:\n",
    "        df[\"price_category\"].iloc[i] = 1\n",
    "    elif price <= 1500000 and price > 1000000:\n",
    "        df[\"price_category\"].iloc[i] = 2\n",
    "    elif price <= 2000000 and price > 1500000:\n",
    "        df[\"price_category\"].iloc[i] = 3\n",
    "df[\"price_category\"] = df[\"price_category\"].astype(int)"
   ]
  },
  {
   "cell_type": "code",
   "execution_count": 129,
   "metadata": {},
   "outputs": [
    {
     "data": {
      "text/plain": [
       "1    7800\n",
       "0    2780\n",
       "2    1837\n",
       "3     552\n",
       "Name: price_category, dtype: int64"
      ]
     },
     "execution_count": 129,
     "metadata": {},
     "output_type": "execute_result"
    }
   ],
   "source": [
    "df[\"price_category\"].value_counts()"
   ]
  },
  {
   "cell_type": "code",
   "execution_count": 130,
   "metadata": {},
   "outputs": [
    {
     "data": {
      "text/html": [
       "<div>\n",
       "<style scoped>\n",
       "    .dataframe tbody tr th:only-of-type {\n",
       "        vertical-align: middle;\n",
       "    }\n",
       "\n",
       "    .dataframe tbody tr th {\n",
       "        vertical-align: top;\n",
       "    }\n",
       "\n",
       "    .dataframe thead th {\n",
       "        text-align: right;\n",
       "    }\n",
       "</style>\n",
       "<table border=\"1\" class=\"dataframe\">\n",
       "  <thead>\n",
       "    <tr style=\"text-align: right;\">\n",
       "      <th></th>\n",
       "      <th>bedrooms</th>\n",
       "      <th>bathrooms</th>\n",
       "      <th>sqft</th>\n",
       "      <th>parking</th>\n",
       "      <th>type</th>\n",
       "      <th>lat</th>\n",
       "      <th>long</th>\n",
       "    </tr>\n",
       "  </thead>\n",
       "  <tbody>\n",
       "    <tr>\n",
       "      <th>0</th>\n",
       "      <td>1</td>\n",
       "      <td>1</td>\n",
       "      <td>500.0</td>\n",
       "      <td>0</td>\n",
       "      <td>APT</td>\n",
       "      <td>43.708472</td>\n",
       "      <td>-79.397498</td>\n",
       "    </tr>\n",
       "    <tr>\n",
       "      <th>1</th>\n",
       "      <td>1</td>\n",
       "      <td>1</td>\n",
       "      <td>600.0</td>\n",
       "      <td>1</td>\n",
       "      <td>APT</td>\n",
       "      <td>43.638399</td>\n",
       "      <td>-79.414448</td>\n",
       "    </tr>\n",
       "    <tr>\n",
       "      <th>2</th>\n",
       "      <td>1</td>\n",
       "      <td>1</td>\n",
       "      <td>600.0</td>\n",
       "      <td>1</td>\n",
       "      <td>APT</td>\n",
       "      <td>43.805327</td>\n",
       "      <td>-79.220229</td>\n",
       "    </tr>\n",
       "    <tr>\n",
       "      <th>3</th>\n",
       "      <td>1</td>\n",
       "      <td>1</td>\n",
       "      <td>700.0</td>\n",
       "      <td>1</td>\n",
       "      <td>APT</td>\n",
       "      <td>43.769495</td>\n",
       "      <td>-79.283388</td>\n",
       "    </tr>\n",
       "    <tr>\n",
       "      <th>4</th>\n",
       "      <td>1</td>\n",
       "      <td>1</td>\n",
       "      <td>600.0</td>\n",
       "      <td>1</td>\n",
       "      <td>APT</td>\n",
       "      <td>43.714543</td>\n",
       "      <td>-79.453072</td>\n",
       "    </tr>\n",
       "    <tr>\n",
       "      <th>...</th>\n",
       "      <td>...</td>\n",
       "      <td>...</td>\n",
       "      <td>...</td>\n",
       "      <td>...</td>\n",
       "      <td>...</td>\n",
       "      <td>...</td>\n",
       "      <td>...</td>\n",
       "    </tr>\n",
       "    <tr>\n",
       "      <th>13299</th>\n",
       "      <td>8</td>\n",
       "      <td>8</td>\n",
       "      <td>2500.0</td>\n",
       "      <td>4</td>\n",
       "      <td>MULTIPLEX</td>\n",
       "      <td>43.718093</td>\n",
       "      <td>-79.557313</td>\n",
       "    </tr>\n",
       "    <tr>\n",
       "      <th>13301</th>\n",
       "      <td>9</td>\n",
       "      <td>6</td>\n",
       "      <td>2000.0</td>\n",
       "      <td>6</td>\n",
       "      <td>MULTIPLEX</td>\n",
       "      <td>43.605662</td>\n",
       "      <td>-79.498462</td>\n",
       "    </tr>\n",
       "    <tr>\n",
       "      <th>13305</th>\n",
       "      <td>9</td>\n",
       "      <td>9</td>\n",
       "      <td>2500.0</td>\n",
       "      <td>1</td>\n",
       "      <td>DETACHED_HOUSE</td>\n",
       "      <td>43.765282</td>\n",
       "      <td>-79.502234</td>\n",
       "    </tr>\n",
       "    <tr>\n",
       "      <th>13306</th>\n",
       "      <td>9</td>\n",
       "      <td>8</td>\n",
       "      <td>2000.0</td>\n",
       "      <td>2</td>\n",
       "      <td>DETACHED_HOUSE</td>\n",
       "      <td>43.768556</td>\n",
       "      <td>-79.497067</td>\n",
       "    </tr>\n",
       "    <tr>\n",
       "      <th>13307</th>\n",
       "      <td>9</td>\n",
       "      <td>5</td>\n",
       "      <td>2500.0</td>\n",
       "      <td>2</td>\n",
       "      <td>DETACHED_HOUSE</td>\n",
       "      <td>43.766184</td>\n",
       "      <td>-79.496027</td>\n",
       "    </tr>\n",
       "  </tbody>\n",
       "</table>\n",
       "<p>12969 rows × 7 columns</p>\n",
       "</div>"
      ],
      "text/plain": [
       "      bedrooms  bathrooms    sqft  parking            type        lat  \\\n",
       "0            1          1   500.0        0             APT  43.708472   \n",
       "1            1          1   600.0        1             APT  43.638399   \n",
       "2            1          1   600.0        1             APT  43.805327   \n",
       "3            1          1   700.0        1             APT  43.769495   \n",
       "4            1          1   600.0        1             APT  43.714543   \n",
       "...        ...        ...     ...      ...             ...        ...   \n",
       "13299        8          8  2500.0        4       MULTIPLEX  43.718093   \n",
       "13301        9          6  2000.0        6       MULTIPLEX  43.605662   \n",
       "13305        9          9  2500.0        1  DETACHED_HOUSE  43.765282   \n",
       "13306        9          8  2000.0        2  DETACHED_HOUSE  43.768556   \n",
       "13307        9          5  2500.0        2  DETACHED_HOUSE  43.766184   \n",
       "\n",
       "            long  \n",
       "0     -79.397498  \n",
       "1     -79.414448  \n",
       "2     -79.220229  \n",
       "3     -79.283388  \n",
       "4     -79.453072  \n",
       "...          ...  \n",
       "13299 -79.557313  \n",
       "13301 -79.498462  \n",
       "13305 -79.502234  \n",
       "13306 -79.497067  \n",
       "13307 -79.496027  \n",
       "\n",
       "[12969 rows x 7 columns]"
      ]
     },
     "execution_count": 130,
     "metadata": {},
     "output_type": "execute_result"
    }
   ],
   "source": [
    "##. let's take the important features\n",
    "\n",
    "df[[\"bedrooms\", \"bathrooms\", \"sqft\", \"parking\", \"type\", \"lat\", \"long\"]]"
   ]
  },
  {
   "cell_type": "code",
   "execution_count": 131,
   "metadata": {},
   "outputs": [
    {
     "data": {
      "text/plain": [
       "APT               6863\n",
       "DETACHED_HOUSE    4558\n",
       "CONDO             1103\n",
       "TWNHOUSE           374\n",
       "DUPLEX              24\n",
       "LINK                19\n",
       "TRIPLEX             19\n",
       "MULTIPLEX            7\n",
       "Name: type, dtype: int64"
      ]
     },
     "execution_count": 131,
     "metadata": {},
     "output_type": "execute_result"
    }
   ],
   "source": [
    "## let's catogorise the type column\n",
    "df[\"type\"].value_counts()"
   ]
  },
  {
   "cell_type": "code",
   "execution_count": 132,
   "metadata": {},
   "outputs": [
    {
     "data": {
      "text/plain": [
       "0    6863\n",
       "1    4558\n",
       "2    1103\n",
       "3     374\n",
       "Name: type_category, dtype: int64"
      ]
     },
     "execution_count": 132,
     "metadata": {},
     "output_type": "execute_result"
    }
   ],
   "source": [
    "df[\"type_category\"] = np.nan\n",
    "for i,Type in enumerate(df[\"type\"]):\n",
    "    if Type ==\"APT\":\n",
    "        df[\"type_category\"].iloc[i] = 0\n",
    "    elif Type == \"DETACHED_HOUSE\":\n",
    "        df[\"type_category\"].iloc[i] = 1\n",
    "    elif Type == \"CONDO\":\n",
    "        df[\"type_category\"].iloc[i] = 2\n",
    "    elif Type == \"TWNHOUSE\":\n",
    "        df[\"type_category\"].iloc[i] = 3\n",
    "    else:\n",
    "        df[\"type_category\"].iloc[i] = 100\n",
    "df[\"type_category\"] = df[\"type_category\"].astype(int)\n",
    "df = df[df[\"type_category\"] != 100]\n",
    "df[\"type_category\"].value_counts()"
   ]
  },
  {
   "cell_type": "code",
   "execution_count": 133,
   "metadata": {},
   "outputs": [
    {
     "data": {
      "text/html": [
       "<div>\n",
       "<style scoped>\n",
       "    .dataframe tbody tr th:only-of-type {\n",
       "        vertical-align: middle;\n",
       "    }\n",
       "\n",
       "    .dataframe tbody tr th {\n",
       "        vertical-align: top;\n",
       "    }\n",
       "\n",
       "    .dataframe thead th {\n",
       "        text-align: right;\n",
       "    }\n",
       "</style>\n",
       "<table border=\"1\" class=\"dataframe\">\n",
       "  <thead>\n",
       "    <tr style=\"text-align: right;\">\n",
       "      <th></th>\n",
       "      <th>bedrooms</th>\n",
       "      <th>bathrooms</th>\n",
       "      <th>sqft</th>\n",
       "      <th>parking</th>\n",
       "      <th>type_category</th>\n",
       "      <th>lat</th>\n",
       "      <th>long</th>\n",
       "    </tr>\n",
       "  </thead>\n",
       "  <tbody>\n",
       "    <tr>\n",
       "      <th>0</th>\n",
       "      <td>1</td>\n",
       "      <td>1</td>\n",
       "      <td>500.0</td>\n",
       "      <td>0</td>\n",
       "      <td>0</td>\n",
       "      <td>43.708472</td>\n",
       "      <td>-79.397498</td>\n",
       "    </tr>\n",
       "    <tr>\n",
       "      <th>1</th>\n",
       "      <td>1</td>\n",
       "      <td>1</td>\n",
       "      <td>600.0</td>\n",
       "      <td>1</td>\n",
       "      <td>0</td>\n",
       "      <td>43.638399</td>\n",
       "      <td>-79.414448</td>\n",
       "    </tr>\n",
       "    <tr>\n",
       "      <th>2</th>\n",
       "      <td>1</td>\n",
       "      <td>1</td>\n",
       "      <td>600.0</td>\n",
       "      <td>1</td>\n",
       "      <td>0</td>\n",
       "      <td>43.805327</td>\n",
       "      <td>-79.220229</td>\n",
       "    </tr>\n",
       "    <tr>\n",
       "      <th>3</th>\n",
       "      <td>1</td>\n",
       "      <td>1</td>\n",
       "      <td>700.0</td>\n",
       "      <td>1</td>\n",
       "      <td>0</td>\n",
       "      <td>43.769495</td>\n",
       "      <td>-79.283388</td>\n",
       "    </tr>\n",
       "    <tr>\n",
       "      <th>4</th>\n",
       "      <td>1</td>\n",
       "      <td>1</td>\n",
       "      <td>600.0</td>\n",
       "      <td>1</td>\n",
       "      <td>0</td>\n",
       "      <td>43.714543</td>\n",
       "      <td>-79.453072</td>\n",
       "    </tr>\n",
       "    <tr>\n",
       "      <th>...</th>\n",
       "      <td>...</td>\n",
       "      <td>...</td>\n",
       "      <td>...</td>\n",
       "      <td>...</td>\n",
       "      <td>...</td>\n",
       "      <td>...</td>\n",
       "      <td>...</td>\n",
       "    </tr>\n",
       "    <tr>\n",
       "      <th>13293</th>\n",
       "      <td>8</td>\n",
       "      <td>7</td>\n",
       "      <td>2500.0</td>\n",
       "      <td>2</td>\n",
       "      <td>1</td>\n",
       "      <td>43.653484</td>\n",
       "      <td>-79.406800</td>\n",
       "    </tr>\n",
       "    <tr>\n",
       "      <th>13296</th>\n",
       "      <td>8</td>\n",
       "      <td>6</td>\n",
       "      <td>3500.0</td>\n",
       "      <td>2</td>\n",
       "      <td>1</td>\n",
       "      <td>43.724645</td>\n",
       "      <td>-79.441270</td>\n",
       "    </tr>\n",
       "    <tr>\n",
       "      <th>13305</th>\n",
       "      <td>9</td>\n",
       "      <td>9</td>\n",
       "      <td>2500.0</td>\n",
       "      <td>1</td>\n",
       "      <td>1</td>\n",
       "      <td>43.765282</td>\n",
       "      <td>-79.502234</td>\n",
       "    </tr>\n",
       "    <tr>\n",
       "      <th>13306</th>\n",
       "      <td>9</td>\n",
       "      <td>8</td>\n",
       "      <td>2000.0</td>\n",
       "      <td>2</td>\n",
       "      <td>1</td>\n",
       "      <td>43.768556</td>\n",
       "      <td>-79.497067</td>\n",
       "    </tr>\n",
       "    <tr>\n",
       "      <th>13307</th>\n",
       "      <td>9</td>\n",
       "      <td>5</td>\n",
       "      <td>2500.0</td>\n",
       "      <td>2</td>\n",
       "      <td>1</td>\n",
       "      <td>43.766184</td>\n",
       "      <td>-79.496027</td>\n",
       "    </tr>\n",
       "  </tbody>\n",
       "</table>\n",
       "<p>12898 rows × 7 columns</p>\n",
       "</div>"
      ],
      "text/plain": [
       "      bedrooms  bathrooms    sqft  parking  type_category        lat  \\\n",
       "0            1          1   500.0        0              0  43.708472   \n",
       "1            1          1   600.0        1              0  43.638399   \n",
       "2            1          1   600.0        1              0  43.805327   \n",
       "3            1          1   700.0        1              0  43.769495   \n",
       "4            1          1   600.0        1              0  43.714543   \n",
       "...        ...        ...     ...      ...            ...        ...   \n",
       "13293        8          7  2500.0        2              1  43.653484   \n",
       "13296        8          6  3500.0        2              1  43.724645   \n",
       "13305        9          9  2500.0        1              1  43.765282   \n",
       "13306        9          8  2000.0        2              1  43.768556   \n",
       "13307        9          5  2500.0        2              1  43.766184   \n",
       "\n",
       "            long  \n",
       "0     -79.397498  \n",
       "1     -79.414448  \n",
       "2     -79.220229  \n",
       "3     -79.283388  \n",
       "4     -79.453072  \n",
       "...          ...  \n",
       "13293 -79.406800  \n",
       "13296 -79.441270  \n",
       "13305 -79.502234  \n",
       "13306 -79.497067  \n",
       "13307 -79.496027  \n",
       "\n",
       "[12898 rows x 7 columns]"
      ]
     },
     "execution_count": 133,
     "metadata": {},
     "output_type": "execute_result"
    }
   ],
   "source": [
    "##. let's take the important features again\n",
    "\n",
    "df[[\"bedrooms\", \"bathrooms\", \"sqft\", \"parking\", \"type_category\", \"lat\", \"long\"]]"
   ]
  },
  {
   "cell_type": "code",
   "execution_count": 134,
   "metadata": {},
   "outputs": [
    {
     "data": {
      "text/html": [
       "<div>\n",
       "<style scoped>\n",
       "    .dataframe tbody tr th:only-of-type {\n",
       "        vertical-align: middle;\n",
       "    }\n",
       "\n",
       "    .dataframe tbody tr th {\n",
       "        vertical-align: top;\n",
       "    }\n",
       "\n",
       "    .dataframe thead th {\n",
       "        text-align: right;\n",
       "    }\n",
       "</style>\n",
       "<table border=\"1\" class=\"dataframe\">\n",
       "  <thead>\n",
       "    <tr style=\"text-align: right;\">\n",
       "      <th></th>\n",
       "      <th>bedrooms</th>\n",
       "      <th>bathrooms</th>\n",
       "      <th>sqft</th>\n",
       "      <th>parking</th>\n",
       "      <th>type_category</th>\n",
       "      <th>lat</th>\n",
       "      <th>long</th>\n",
       "      <th>price_category</th>\n",
       "    </tr>\n",
       "  </thead>\n",
       "  <tbody>\n",
       "    <tr>\n",
       "      <th>0</th>\n",
       "      <td>1</td>\n",
       "      <td>1</td>\n",
       "      <td>500.0</td>\n",
       "      <td>0</td>\n",
       "      <td>0</td>\n",
       "      <td>43.708472</td>\n",
       "      <td>-79.397498</td>\n",
       "      <td>1</td>\n",
       "    </tr>\n",
       "    <tr>\n",
       "      <th>1</th>\n",
       "      <td>1</td>\n",
       "      <td>1</td>\n",
       "      <td>600.0</td>\n",
       "      <td>1</td>\n",
       "      <td>0</td>\n",
       "      <td>43.638399</td>\n",
       "      <td>-79.414448</td>\n",
       "      <td>1</td>\n",
       "    </tr>\n",
       "    <tr>\n",
       "      <th>2</th>\n",
       "      <td>1</td>\n",
       "      <td>1</td>\n",
       "      <td>600.0</td>\n",
       "      <td>1</td>\n",
       "      <td>0</td>\n",
       "      <td>43.805327</td>\n",
       "      <td>-79.220229</td>\n",
       "      <td>0</td>\n",
       "    </tr>\n",
       "    <tr>\n",
       "      <th>3</th>\n",
       "      <td>1</td>\n",
       "      <td>1</td>\n",
       "      <td>700.0</td>\n",
       "      <td>1</td>\n",
       "      <td>0</td>\n",
       "      <td>43.769495</td>\n",
       "      <td>-79.283388</td>\n",
       "      <td>0</td>\n",
       "    </tr>\n",
       "    <tr>\n",
       "      <th>4</th>\n",
       "      <td>1</td>\n",
       "      <td>1</td>\n",
       "      <td>600.0</td>\n",
       "      <td>1</td>\n",
       "      <td>0</td>\n",
       "      <td>43.714543</td>\n",
       "      <td>-79.453072</td>\n",
       "      <td>0</td>\n",
       "    </tr>\n",
       "  </tbody>\n",
       "</table>\n",
       "</div>"
      ],
      "text/plain": [
       "  bedrooms  bathrooms   sqft  parking  type_category        lat       long  \\\n",
       "0        1          1  500.0        0              0  43.708472 -79.397498   \n",
       "1        1          1  600.0        1              0  43.638399 -79.414448   \n",
       "2        1          1  600.0        1              0  43.805327 -79.220229   \n",
       "3        1          1  700.0        1              0  43.769495 -79.283388   \n",
       "4        1          1  600.0        1              0  43.714543 -79.453072   \n",
       "\n",
       "   price_category  \n",
       "0               1  \n",
       "1               1  \n",
       "2               0  \n",
       "3               0  \n",
       "4               0  "
      ]
     },
     "execution_count": 134,
     "metadata": {},
     "output_type": "execute_result"
    }
   ],
   "source": [
    "## let's create a dataset with the features and the target only\n",
    "data_features = [\"bedrooms\", \"bathrooms\", \"sqft\", \"parking\", \"type_category\", \"lat\", \"long\"]\n",
    "dataset = df[[\"bedrooms\", \"bathrooms\", \"sqft\", \"parking\", \"type_category\", \"lat\", \"long\", \"price_category\"]]\n",
    "dataset.head()"
   ]
  },
  {
   "cell_type": "markdown",
   "metadata": {},
   "source": [
    "### Low Variance Filter"
   ]
  },
  {
   "cell_type": "code",
   "execution_count": 135,
   "metadata": {},
   "outputs": [
    {
     "data": {
      "text/plain": [
       "bedrooms               1.035634\n",
       "bathrooms              0.632932\n",
       "sqft              161276.099954\n",
       "parking               28.844969\n",
       "type_category          0.582647\n",
       "lat                    0.003298\n",
       "long                   0.009578\n",
       "price_category         0.523462\n",
       "dtype: float64"
      ]
     },
     "execution_count": 135,
     "metadata": {},
     "output_type": "execute_result"
    }
   ],
   "source": [
    "#check the variance \n",
    "\n",
    "dataset.var()"
   ]
  },
  {
   "cell_type": "code",
   "execution_count": 136,
   "metadata": {},
   "outputs": [
    {
     "data": {
      "text/html": [
       "<div>\n",
       "<style scoped>\n",
       "    .dataframe tbody tr th:only-of-type {\n",
       "        vertical-align: middle;\n",
       "    }\n",
       "\n",
       "    .dataframe tbody tr th {\n",
       "        vertical-align: top;\n",
       "    }\n",
       "\n",
       "    .dataframe thead th {\n",
       "        text-align: right;\n",
       "    }\n",
       "</style>\n",
       "<table border=\"1\" class=\"dataframe\">\n",
       "  <thead>\n",
       "    <tr style=\"text-align: right;\">\n",
       "      <th></th>\n",
       "      <th>bedrooms</th>\n",
       "      <th>bathrooms</th>\n",
       "      <th>sqft</th>\n",
       "      <th>parking</th>\n",
       "      <th>type_category</th>\n",
       "      <th>price_category</th>\n",
       "    </tr>\n",
       "  </thead>\n",
       "  <tbody>\n",
       "    <tr>\n",
       "      <th>0</th>\n",
       "      <td>1</td>\n",
       "      <td>1</td>\n",
       "      <td>500.0</td>\n",
       "      <td>0</td>\n",
       "      <td>0</td>\n",
       "      <td>1</td>\n",
       "    </tr>\n",
       "    <tr>\n",
       "      <th>1</th>\n",
       "      <td>1</td>\n",
       "      <td>1</td>\n",
       "      <td>600.0</td>\n",
       "      <td>1</td>\n",
       "      <td>0</td>\n",
       "      <td>1</td>\n",
       "    </tr>\n",
       "    <tr>\n",
       "      <th>2</th>\n",
       "      <td>1</td>\n",
       "      <td>1</td>\n",
       "      <td>600.0</td>\n",
       "      <td>1</td>\n",
       "      <td>0</td>\n",
       "      <td>0</td>\n",
       "    </tr>\n",
       "    <tr>\n",
       "      <th>3</th>\n",
       "      <td>1</td>\n",
       "      <td>1</td>\n",
       "      <td>700.0</td>\n",
       "      <td>1</td>\n",
       "      <td>0</td>\n",
       "      <td>0</td>\n",
       "    </tr>\n",
       "    <tr>\n",
       "      <th>4</th>\n",
       "      <td>1</td>\n",
       "      <td>1</td>\n",
       "      <td>600.0</td>\n",
       "      <td>1</td>\n",
       "      <td>0</td>\n",
       "      <td>0</td>\n",
       "    </tr>\n",
       "  </tbody>\n",
       "</table>\n",
       "</div>"
      ],
      "text/plain": [
       "  bedrooms  bathrooms   sqft  parking  type_category  price_category\n",
       "0        1          1  500.0        0              0               1\n",
       "1        1          1  600.0        1              0               1\n",
       "2        1          1  600.0        1              0               0\n",
       "3        1          1  700.0        1              0               0\n",
       "4        1          1  600.0        1              0               0"
      ]
     },
     "execution_count": 136,
     "metadata": {},
     "output_type": "execute_result"
    }
   ],
   "source": [
    "#Lat and long has the least variance \n",
    "#which is very less when compared to other variables so we can safely drop this\n",
    "\n",
    "dataset=dataset.drop(['lat', 'long'],axis=1)\n",
    "dataset.head()"
   ]
  },
  {
   "cell_type": "markdown",
   "metadata": {},
   "source": [
    "### High Correlation Filter"
   ]
  },
  {
   "cell_type": "code",
   "execution_count": 137,
   "metadata": {},
   "outputs": [
    {
     "data": {
      "text/html": [
       "<div>\n",
       "<style scoped>\n",
       "    .dataframe tbody tr th:only-of-type {\n",
       "        vertical-align: middle;\n",
       "    }\n",
       "\n",
       "    .dataframe tbody tr th {\n",
       "        vertical-align: top;\n",
       "    }\n",
       "\n",
       "    .dataframe thead th {\n",
       "        text-align: right;\n",
       "    }\n",
       "</style>\n",
       "<table border=\"1\" class=\"dataframe\">\n",
       "  <thead>\n",
       "    <tr style=\"text-align: right;\">\n",
       "      <th></th>\n",
       "      <th>bathrooms</th>\n",
       "      <th>sqft</th>\n",
       "      <th>parking</th>\n",
       "      <th>type_category</th>\n",
       "      <th>price_category</th>\n",
       "    </tr>\n",
       "  </thead>\n",
       "  <tbody>\n",
       "    <tr>\n",
       "      <th>bathrooms</th>\n",
       "      <td>1.000000</td>\n",
       "      <td>0.511338</td>\n",
       "      <td>0.093444</td>\n",
       "      <td>0.456034</td>\n",
       "      <td>0.484636</td>\n",
       "    </tr>\n",
       "    <tr>\n",
       "      <th>sqft</th>\n",
       "      <td>0.511338</td>\n",
       "      <td>1.000000</td>\n",
       "      <td>0.032385</td>\n",
       "      <td>0.220242</td>\n",
       "      <td>0.258185</td>\n",
       "    </tr>\n",
       "    <tr>\n",
       "      <th>parking</th>\n",
       "      <td>0.093444</td>\n",
       "      <td>0.032385</td>\n",
       "      <td>1.000000</td>\n",
       "      <td>0.051825</td>\n",
       "      <td>0.048939</td>\n",
       "    </tr>\n",
       "    <tr>\n",
       "      <th>type_category</th>\n",
       "      <td>0.456034</td>\n",
       "      <td>0.220242</td>\n",
       "      <td>0.051825</td>\n",
       "      <td>1.000000</td>\n",
       "      <td>0.315614</td>\n",
       "    </tr>\n",
       "    <tr>\n",
       "      <th>price_category</th>\n",
       "      <td>0.484636</td>\n",
       "      <td>0.258185</td>\n",
       "      <td>0.048939</td>\n",
       "      <td>0.315614</td>\n",
       "      <td>1.000000</td>\n",
       "    </tr>\n",
       "  </tbody>\n",
       "</table>\n",
       "</div>"
      ],
      "text/plain": [
       "                bathrooms      sqft   parking  type_category  price_category\n",
       "bathrooms        1.000000  0.511338  0.093444       0.456034        0.484636\n",
       "sqft             0.511338  1.000000  0.032385       0.220242        0.258185\n",
       "parking          0.093444  0.032385  1.000000       0.051825        0.048939\n",
       "type_category    0.456034  0.220242  0.051825       1.000000        0.315614\n",
       "price_category   0.484636  0.258185  0.048939       0.315614        1.000000"
      ]
     },
     "execution_count": 137,
     "metadata": {},
     "output_type": "execute_result"
    }
   ],
   "source": [
    "#checking the correlation\n",
    "\n",
    "dataset.corr()"
   ]
  },
  {
   "cell_type": "code",
   "execution_count": 138,
   "metadata": {},
   "outputs": [
    {
     "data": {
      "image/png": "[encoded data removed]",
      "text/plain": [
       "<Figure size 576x576 with 2 Axes>"
      ]
     },
     "metadata": {
      "needs_background": "light"
     },
     "output_type": "display_data"
    }
   ],
   "source": [
    "#Making a heatmap\n",
    "import matplotlib.pyplot as plt\n",
    "import seaborn as sns\n",
    "plt.figure(figsize = (8, 8))\n",
    "sns.heatmap(dataset.corr(), annot = True)\n",
    "plt.title('Correlation Matrix', fontsize = 20)\n",
    "plt.xlabel('Parameters', fontsize = 15) \n",
    "plt.ylabel('Parameters', fontsize = 15) \n",
    "plt.show()"
   ]
  },
  {
   "cell_type": "code",
   "execution_count": 139,
   "metadata": {},
   "outputs": [
    {
     "data": {
      "text/plain": [
       "'since our features are not highly correlated wiht each others then we can safely \\nproceed on this test wiht out dropping any features'"
      ]
     },
     "execution_count": 139,
     "metadata": {},
     "output_type": "execute_result"
    }
   ],
   "source": [
    "'''since our features are not highly correlated wiht each others then we can safely \n",
    "proceed on this test wiht out dropping any features'''"
   ]
  },
  {
   "cell_type": "markdown",
   "metadata": {},
   "source": [
    "### Random Forest test"
   ]
  },
  {
   "cell_type": "code",
   "execution_count": 140,
   "metadata": {},
   "outputs": [],
   "source": [
    "#drop the target variable type and load this data into another dataframe\n",
    "\n",
    "df=dataset.drop(['price_category'],axis=1)"
   ]
  },
  {
   "cell_type": "code",
   "execution_count": 141,
   "metadata": {},
   "outputs": [
    {
     "data": {
      "text/plain": [
       "RandomForestRegressor(bootstrap=True, ccp_alpha=0.0, criterion='mse',\n",
       "                      max_depth=10, max_features='auto', max_leaf_nodes=None,\n",
       "                      max_samples=None, min_impurity_decrease=0.0,\n",
       "                      min_impurity_split=None, min_samples_leaf=1,\n",
       "                      min_samples_split=2, min_weight_fraction_leaf=0.0,\n",
       "                      n_estimators=100, n_jobs=None, oob_score=False,\n",
       "                      random_state=1, verbose=0, warm_start=False)"
      ]
     },
     "execution_count": 141,
     "metadata": {},
     "output_type": "execute_result"
    }
   ],
   "source": [
    "## we are using the random forest to get the most important features \n",
    "#import the package for random forest\n",
    "from sklearn.ensemble import RandomForestRegressor\n",
    "\n",
    "model = RandomForestRegressor(random_state=1, max_depth=10)\n",
    "model.fit(df,dataset.price_category)"
   ]
  },
  {
   "cell_type": "code",
   "execution_count": 142,
   "metadata": {},
   "outputs": [
    {
     "data": {
      "image/png": "[encoded data removed]",
      "text/plain": [
       "<Figure size 432x288 with 1 Axes>"
      ]
     },
     "metadata": {
      "needs_background": "light"
     },
     "output_type": "display_data"
    }
   ],
   "source": [
    "#Build the graph to check feature importance\n",
    "\n",
    "features = df.columns\n",
    "importances = model.feature_importances_\n",
    "indices = np.argsort(importances)[-10:]  # top 10 features\n",
    "plt.title('Feature Importances')\n",
    "plt.barh(range(len(indices)), importances[indices], color='b', align='center')\n",
    "plt.yticks(range(len(indices)), [features[i] for i in indices])\n",
    "plt.xlabel('Relative Importance')\n",
    "plt.show()"
   ]
  },
  {
   "cell_type": "code",
   "execution_count": 143,
   "metadata": {},
   "outputs": [],
   "source": [
    "## Since the level of importance for the features is not that low (less than 0.5) then we can keep them"
   ]
  },
  {
   "cell_type": "markdown",
   "metadata": {},
   "source": [
    "### Backword Feature Extraction"
   ]
  },
  {
   "cell_type": "code",
   "execution_count": 144,
   "metadata": {},
   "outputs": [],
   "source": [
    "#import the feature selection libraries and linear regression libraries \n",
    "\n",
    "from sklearn.linear_model import LinearRegression\n",
    "from sklearn.feature_selection import RFE\n",
    "\n",
    "lreg = LinearRegression()\n",
    "rfe = RFE(lreg,n_features_to_select=3)\n",
    "rfe = rfe.fit(df, dataset.price_category)"
   ]
  },
  {
   "cell_type": "code",
   "execution_count": 145,
   "metadata": {},
   "outputs": [
    {
     "name": "stdout",
     "output_type": "stream",
     "text": [
      "Index(['bedrooms', 'bathrooms', 'type_category'], dtype='object')\n"
     ]
    }
   ],
   "source": [
    "#check the retained column names\n",
    "\n",
    "x_rfe = df[df.columns[rfe.support_]]\n",
    "print(x_rfe.columns)"
   ]
  },
  {
   "cell_type": "markdown",
   "metadata": {},
   "source": [
    "### Forward Feature Extraction"
   ]
  },
  {
   "cell_type": "code",
   "execution_count": 146,
   "metadata": {},
   "outputs": [],
   "source": [
    "#import the required libraries for forward selection\n",
    "\n",
    "from sklearn.feature_selection import f_regression\n",
    "ffs = f_regression(x_rfe,dataset.price_category)"
   ]
  },
  {
   "cell_type": "code",
   "execution_count": 147,
   "metadata": {},
   "outputs": [],
   "source": [
    "#Take the top most variables after the forward selection process\n",
    "\n",
    "final_features = [ ]\n",
    "for i in range(0,len(x_rfe.columns)-1):\n",
    "    if ffs[0][i] >=10:\n",
    "        final_features.append(df.columns[i])"
   ]
  },
  {
   "cell_type": "code",
   "execution_count": 148,
   "metadata": {},
   "outputs": [
    {
     "data": {
      "text/plain": [
       "['bedrooms', 'bathrooms']"
      ]
     },
     "execution_count": 148,
     "metadata": {},
     "output_type": "execute_result"
    }
   ],
   "source": [
    "final_features"
   ]
  },
  {
   "cell_type": "markdown",
   "metadata": {},
   "source": [
    "### Building the DT Clissifier Model"
   ]
  },
  {
   "cell_type": "code",
   "execution_count": 149,
   "metadata": {},
   "outputs": [],
   "source": [
    "## split the data into traing and testing\n",
    "data_features = df[['bedrooms', 'bathrooms', 'type_category']]\n",
    "tagret = dataset.price_category\n",
    "train_X, val_X, train_y, val_y = train_test_split(data_features, target,test_size=0.2, random_state = 45)"
   ]
  },
  {
   "cell_type": "code",
   "execution_count": 150,
   "metadata": {},
   "outputs": [
    {
     "data": {
      "text/plain": [
       "DecisionTreeClassifier(ccp_alpha=0.0, class_weight=None, criterion='gini',\n",
       "                       max_depth=None, max_features=None, max_leaf_nodes=None,\n",
       "                       min_impurity_decrease=0.0, min_impurity_split=None,\n",
       "                       min_samples_leaf=1, min_samples_split=2,\n",
       "                       min_weight_fraction_leaf=0.0, presort='deprecated',\n",
       "                       random_state=None, splitter='best')"
      ]
     },
     "execution_count": 150,
     "metadata": {},
     "output_type": "execute_result"
    }
   ],
   "source": [
    "#create the decision tree classifier \n",
    "from sklearn.tree import DecisionTreeClassifier\n",
    "decision_tree = DecisionTreeClassifier() \n",
    "decision_tree.fit(train_X, train_y)"
   ]
  },
  {
   "cell_type": "code",
   "execution_count": 151,
   "metadata": {},
   "outputs": [
    {
     "name": "stdout",
     "output_type": "stream",
     "text": [
      "[1 1 1 ... 1 1 1]\n"
     ]
    }
   ],
   "source": [
    "#predicting with the test data\n",
    "\n",
    "Y_pred = decision_tree.predict(val_X) \n",
    "print(Y_pred)"
   ]
  },
  {
   "cell_type": "code",
   "execution_count": 152,
   "metadata": {},
   "outputs": [
    {
     "name": "stdout",
     "output_type": "stream",
     "text": [
      "62.63\n"
     ]
    }
   ],
   "source": [
    "#printing the accuracy score of the model\n",
    "\n",
    "acc_decision_tree = round(decision_tree.score(train_X, train_y) * 100, 2)\n",
    "print(acc_decision_tree)"
   ]
  },
  {
   "cell_type": "code",
   "execution_count": null,
   "metadata": {},
   "outputs": [],
   "source": []
  },
  {
   "cell_type": "code",
   "execution_count": null,
   "metadata": {},
   "outputs": [],
   "source": []
  }
 ],
 "metadata": {
  "kernelspec": {
   "display_name": "Python 3",
   "language": "python",
   "name": "python3"
  },
  "language_info": {
   "codemirror_mode": {
    "name": "ipython",
    "version": 3
   },
   "file_extension": ".py",
   "mimetype": "text/x-python",
   "name": "python",
   "nbconvert_exporter": "python",
   "pygments_lexer": "ipython3",
   "version": "3.7.6"
  }
 },
 "nbformat": 4,
 "nbformat_minor": 4
}
