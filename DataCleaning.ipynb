{
 "cells": [
  {
   "cell_type": "markdown",
   "metadata": {},
   "source": [
    "## Data Cleansing and Cleaning"
   ]
  },
  {
   "cell_type": "code",
   "execution_count": 288,
   "metadata": {},
   "outputs": [],
   "source": [
    "import pandas as pd \n",
    "import numpy as np\n",
    "import re\n",
    "pd.options.mode.chained_assignment = None  # default='warn'"
   ]
  },
  {
   "cell_type": "code",
   "execution_count": 289,
   "metadata": {},
   "outputs": [
    {
     "data": {
      "text/html": [
       "<div>\n",
       "<style scoped>\n",
       "    .dataframe tbody tr th:only-of-type {\n",
       "        vertical-align: middle;\n",
       "    }\n",
       "\n",
       "    .dataframe tbody tr th {\n",
       "        vertical-align: top;\n",
       "    }\n",
       "\n",
       "    .dataframe thead th {\n",
       "        text-align: right;\n",
       "    }\n",
       "</style>\n",
       "<table border=\"1\" class=\"dataframe\">\n",
       "  <thead>\n",
       "    <tr style=\"text-align: right;\">\n",
       "      <th></th>\n",
       "      <th>index</th>\n",
       "      <th>title</th>\n",
       "      <th>final_price</th>\n",
       "      <th>list_price</th>\n",
       "      <th>bedrooms</th>\n",
       "      <th>bathrooms</th>\n",
       "      <th>sqft</th>\n",
       "      <th>parking</th>\n",
       "      <th>description</th>\n",
       "      <th>mls</th>\n",
       "      <th>type</th>\n",
       "      <th>full_link</th>\n",
       "      <th>full_address</th>\n",
       "      <th>lat</th>\n",
       "      <th>long</th>\n",
       "      <th>city_district</th>\n",
       "      <th>mean_district_income</th>\n",
       "      <th>district_code</th>\n",
       "    </tr>\n",
       "  </thead>\n",
       "  <tbody>\n",
       "    <tr>\n",
       "      <th>0</th>\n",
       "      <td>0</td>\n",
       "      <td>1303 - 38 Grenville St, Toronto (C4461599) | Z...</td>\n",
       "      <td>855000</td>\n",
       "      <td>870000</td>\n",
       "      <td>2 + 1 beds</td>\n",
       "      <td>2 baths</td>\n",
       "      <td>800–899 sq. ft.</td>\n",
       "      <td>1 parking</td>\n",
       "      <td>Luxurious And Spacious Murano Tower. 2+1, 2 Ba...</td>\n",
       "      <td>C4461599</td>\n",
       "      <td>Condo Apt</td>\n",
       "      <td>https://www.zoocasa.com/toronto-on-real-estate...</td>\n",
       "      <td>38 Grenville St, Toronto , Ontario, Canada</td>\n",
       "      <td>43.661896</td>\n",
       "      <td>-79.385748</td>\n",
       "      <td>Bay Street Corridor</td>\n",
       "      <td>56526</td>\n",
       "      <td>76</td>\n",
       "    </tr>\n",
       "    <tr>\n",
       "      <th>1</th>\n",
       "      <td>1</td>\n",
       "      <td>2 Cabot Crt, Toronto (W4502992) | Zoocasa</td>\n",
       "      <td>885000</td>\n",
       "      <td>898000</td>\n",
       "      <td>3 beds</td>\n",
       "      <td>2 baths</td>\n",
       "      <td>N/A sq. ft.</td>\n",
       "      <td>6 parking</td>\n",
       "      <td>Fantastic Opportunity To Live Within The Histo...</td>\n",
       "      <td>W4502992</td>\n",
       "      <td>Semi-Detached</td>\n",
       "      <td>https://www.zoocasa.com/toronto-on-real-estate...</td>\n",
       "      <td>2 Cabot Crt, Toronto , Ontario, Canada</td>\n",
       "      <td>43.646982</td>\n",
       "      <td>-79.530356</td>\n",
       "      <td>Islington-City Centre West</td>\n",
       "      <td>52787</td>\n",
       "      <td>14</td>\n",
       "    </tr>\n",
       "    <tr>\n",
       "      <th>2</th>\n",
       "      <td>2</td>\n",
       "      <td>1504 - 30 Roehampton Ave, Toronto (C4511330) |...</td>\n",
       "      <td>550000</td>\n",
       "      <td>549900</td>\n",
       "      <td>1 beds</td>\n",
       "      <td>1 baths</td>\n",
       "      <td>500–599 sq. ft.</td>\n",
       "      <td>no parking</td>\n",
       "      <td>Bright Sunfilled Spacious 1 Bdr Unit; Floor To...</td>\n",
       "      <td>C4511330</td>\n",
       "      <td>Condo Apt</td>\n",
       "      <td>https://www.zoocasa.com/toronto-on-real-estate...</td>\n",
       "      <td>30 Roehampton Ave, Toronto , Ontario, Canada</td>\n",
       "      <td>43.708472</td>\n",
       "      <td>-79.397498</td>\n",
       "      <td>Mount Pleasant West</td>\n",
       "      <td>57039</td>\n",
       "      <td>104</td>\n",
       "    </tr>\n",
       "    <tr>\n",
       "      <th>3</th>\n",
       "      <td>3</td>\n",
       "      <td>514 - 65 East Liberty St, Toronto (C4515763) |...</td>\n",
       "      <td>665000</td>\n",
       "      <td>600000</td>\n",
       "      <td>1 + 1 beds</td>\n",
       "      <td>1 baths</td>\n",
       "      <td>600–699 sq. ft.</td>\n",
       "      <td>1 parking</td>\n",
       "      <td>Rare Loft-Like Condo In Liberty Village W/ 18'...</td>\n",
       "      <td>C4515763</td>\n",
       "      <td>Condo Apt</td>\n",
       "      <td>https://www.zoocasa.com/toronto-on-real-estate...</td>\n",
       "      <td>65 East Liberty St, Toronto , Ontario, Canada</td>\n",
       "      <td>43.638399</td>\n",
       "      <td>-79.414448</td>\n",
       "      <td>Niagara</td>\n",
       "      <td>70623</td>\n",
       "      <td>82</td>\n",
       "    </tr>\n",
       "    <tr>\n",
       "      <th>4</th>\n",
       "      <td>4</td>\n",
       "      <td>61 Twelfth St, Toronto (W4519375) | Zoocasa</td>\n",
       "      <td>825513</td>\n",
       "      <td>839000</td>\n",
       "      <td>2 beds</td>\n",
       "      <td>2 baths</td>\n",
       "      <td>N/A sq. ft.</td>\n",
       "      <td>1 parking</td>\n",
       "      <td>Location! Location! Location. Your Cottage In ...</td>\n",
       "      <td>W4519375</td>\n",
       "      <td>Detached</td>\n",
       "      <td>https://www.zoocasa.com/toronto-on-real-estate...</td>\n",
       "      <td>61 Twelfth St, Toronto , Ontario, Canada</td>\n",
       "      <td>43.597096</td>\n",
       "      <td>-79.509612</td>\n",
       "      <td>New Toronto</td>\n",
       "      <td>44101</td>\n",
       "      <td>18</td>\n",
       "    </tr>\n",
       "  </tbody>\n",
       "</table>\n",
       "</div>"
      ],
      "text/plain": [
       "   index                                              title  final_price  \\\n",
       "0      0  1303 - 38 Grenville St, Toronto (C4461599) | Z...       855000   \n",
       "1      1          2 Cabot Crt, Toronto (W4502992) | Zoocasa       885000   \n",
       "2      2  1504 - 30 Roehampton Ave, Toronto (C4511330) |...       550000   \n",
       "3      3  514 - 65 East Liberty St, Toronto (C4515763) |...       665000   \n",
       "4      4        61 Twelfth St, Toronto (W4519375) | Zoocasa       825513   \n",
       "\n",
       "   list_price    bedrooms bathrooms             sqft     parking  \\\n",
       "0      870000  2 + 1 beds   2 baths  800–899 sq. ft.   1 parking   \n",
       "1      898000      3 beds   2 baths      N/A sq. ft.   6 parking   \n",
       "2      549900      1 beds   1 baths  500–599 sq. ft.  no parking   \n",
       "3      600000  1 + 1 beds   1 baths  600–699 sq. ft.   1 parking   \n",
       "4      839000      2 beds   2 baths      N/A sq. ft.   1 parking   \n",
       "\n",
       "                                         description       mls           type  \\\n",
       "0  Luxurious And Spacious Murano Tower. 2+1, 2 Ba...  C4461599      Condo Apt   \n",
       "1  Fantastic Opportunity To Live Within The Histo...  W4502992  Semi-Detached   \n",
       "2  Bright Sunfilled Spacious 1 Bdr Unit; Floor To...  C4511330      Condo Apt   \n",
       "3  Rare Loft-Like Condo In Liberty Village W/ 18'...  C4515763      Condo Apt   \n",
       "4  Location! Location! Location. Your Cottage In ...  W4519375       Detached   \n",
       "\n",
       "                                           full_link  \\\n",
       "0  https://www.zoocasa.com/toronto-on-real-estate...   \n",
       "1  https://www.zoocasa.com/toronto-on-real-estate...   \n",
       "2  https://www.zoocasa.com/toronto-on-real-estate...   \n",
       "3  https://www.zoocasa.com/toronto-on-real-estate...   \n",
       "4  https://www.zoocasa.com/toronto-on-real-estate...   \n",
       "\n",
       "                                     full_address        lat       long  \\\n",
       "0      38 Grenville St, Toronto , Ontario, Canada  43.661896 -79.385748   \n",
       "1          2 Cabot Crt, Toronto , Ontario, Canada  43.646982 -79.530356   \n",
       "2    30 Roehampton Ave, Toronto , Ontario, Canada  43.708472 -79.397498   \n",
       "3   65 East Liberty St, Toronto , Ontario, Canada  43.638399 -79.414448   \n",
       "4        61 Twelfth St, Toronto , Ontario, Canada  43.597096 -79.509612   \n",
       "\n",
       "                city_district  mean_district_income  district_code  \n",
       "0         Bay Street Corridor                 56526             76  \n",
       "1  Islington-City Centre West                 52787             14  \n",
       "2         Mount Pleasant West                 57039            104  \n",
       "3                     Niagara                 70623             82  \n",
       "4                 New Toronto                 44101             18  "
      ]
     },
     "execution_count": 289,
     "metadata": {},
     "output_type": "execute_result"
    }
   ],
   "source": [
    "df = pd.read_csv(\"https://raw.githubusercontent.com/slavaspirin/Toronto-housing-price-prediction/master/houses.csv\")\n",
    "original_data = df.copy()\n",
    "df.head()"
   ]
  },
  {
   "cell_type": "code",
   "execution_count": 290,
   "metadata": {},
   "outputs": [
    {
     "name": "stdout",
     "output_type": "stream",
     "text": [
      "<class 'pandas.core.frame.DataFrame'>\n",
      "RangeIndex: 15236 entries, 0 to 15235\n",
      "Data columns (total 18 columns):\n",
      " #   Column                Non-Null Count  Dtype  \n",
      "---  ------                --------------  -----  \n",
      " 0   index                 15236 non-null  int64  \n",
      " 1   title                 15236 non-null  object \n",
      " 2   final_price           15236 non-null  int64  \n",
      " 3   list_price            15236 non-null  int64  \n",
      " 4   bedrooms              15236 non-null  object \n",
      " 5   bathrooms             15236 non-null  object \n",
      " 6   sqft                  15236 non-null  object \n",
      " 7   parking               15236 non-null  object \n",
      " 8   description           15187 non-null  object \n",
      " 9   mls                   15236 non-null  object \n",
      " 10  type                  15236 non-null  object \n",
      " 11  full_link             15236 non-null  object \n",
      " 12  full_address          15236 non-null  object \n",
      " 13  lat                   15236 non-null  float64\n",
      " 14  long                  15236 non-null  float64\n",
      " 15  city_district         15236 non-null  object \n",
      " 16  mean_district_income  15236 non-null  int64  \n",
      " 17  district_code         15236 non-null  int64  \n",
      "dtypes: float64(2), int64(5), object(11)\n",
      "memory usage: 2.1+ MB\n"
     ]
    }
   ],
   "source": [
    "df.info()"
   ]
  },
  {
   "cell_type": "code",
   "execution_count": 291,
   "metadata": {},
   "outputs": [],
   "source": [
    "abnType = df['type'].unique()[5] ## taking out the abnormal hosue type\n",
    "df = df[df['type']!= abnType]"
   ]
  },
  {
   "cell_type": "code",
   "execution_count": 292,
   "metadata": {},
   "outputs": [],
   "source": [
    "## checking all the cities that are in the data\n",
    "\n",
    "'''\n",
    "we are going to split the data using the \",\" and then split based on teh space and get the city from each one,\n",
    "\n",
    "This will be added to a new column called \"city\"\n",
    "'''\n",
    "df[\"city\"] = df[\"full_address\"].apply(lambda x: x.split(\",\")[1].split(\" \")[1].upper())"
   ]
  },
  {
   "cell_type": "code",
   "execution_count": 293,
   "metadata": {},
   "outputs": [
    {
     "data": {
      "text/html": [
       "<div>\n",
       "<style scoped>\n",
       "    .dataframe tbody tr th:only-of-type {\n",
       "        vertical-align: middle;\n",
       "    }\n",
       "\n",
       "    .dataframe tbody tr th {\n",
       "        vertical-align: top;\n",
       "    }\n",
       "\n",
       "    .dataframe thead th {\n",
       "        text-align: right;\n",
       "    }\n",
       "</style>\n",
       "<table border=\"1\" class=\"dataframe\">\n",
       "  <thead>\n",
       "    <tr style=\"text-align: right;\">\n",
       "      <th></th>\n",
       "      <th>index</th>\n",
       "      <th>title</th>\n",
       "      <th>final_price</th>\n",
       "      <th>list_price</th>\n",
       "      <th>bedrooms</th>\n",
       "      <th>bathrooms</th>\n",
       "      <th>sqft</th>\n",
       "      <th>parking</th>\n",
       "      <th>description</th>\n",
       "      <th>mls</th>\n",
       "      <th>type</th>\n",
       "      <th>full_link</th>\n",
       "      <th>full_address</th>\n",
       "      <th>lat</th>\n",
       "      <th>long</th>\n",
       "      <th>city_district</th>\n",
       "      <th>mean_district_income</th>\n",
       "      <th>district_code</th>\n",
       "      <th>city</th>\n",
       "    </tr>\n",
       "  </thead>\n",
       "  <tbody>\n",
       "    <tr>\n",
       "      <th>0</th>\n",
       "      <td>0</td>\n",
       "      <td>1303 - 38 Grenville St, Toronto (C4461599) | Z...</td>\n",
       "      <td>855000</td>\n",
       "      <td>870000</td>\n",
       "      <td>2 + 1 beds</td>\n",
       "      <td>2 baths</td>\n",
       "      <td>800–899 sq. ft.</td>\n",
       "      <td>1 parking</td>\n",
       "      <td>Luxurious And Spacious Murano Tower. 2+1, 2 Ba...</td>\n",
       "      <td>C4461599</td>\n",
       "      <td>Condo Apt</td>\n",
       "      <td>https://www.zoocasa.com/toronto-on-real-estate...</td>\n",
       "      <td>38 Grenville St, Toronto , Ontario, Canada</td>\n",
       "      <td>43.661896</td>\n",
       "      <td>-79.385748</td>\n",
       "      <td>Bay Street Corridor</td>\n",
       "      <td>56526</td>\n",
       "      <td>76</td>\n",
       "      <td>TORONTO</td>\n",
       "    </tr>\n",
       "    <tr>\n",
       "      <th>1</th>\n",
       "      <td>1</td>\n",
       "      <td>2 Cabot Crt, Toronto (W4502992) | Zoocasa</td>\n",
       "      <td>885000</td>\n",
       "      <td>898000</td>\n",
       "      <td>3 beds</td>\n",
       "      <td>2 baths</td>\n",
       "      <td>N/A sq. ft.</td>\n",
       "      <td>6 parking</td>\n",
       "      <td>Fantastic Opportunity To Live Within The Histo...</td>\n",
       "      <td>W4502992</td>\n",
       "      <td>Semi-Detached</td>\n",
       "      <td>https://www.zoocasa.com/toronto-on-real-estate...</td>\n",
       "      <td>2 Cabot Crt, Toronto , Ontario, Canada</td>\n",
       "      <td>43.646982</td>\n",
       "      <td>-79.530356</td>\n",
       "      <td>Islington-City Centre West</td>\n",
       "      <td>52787</td>\n",
       "      <td>14</td>\n",
       "      <td>TORONTO</td>\n",
       "    </tr>\n",
       "    <tr>\n",
       "      <th>2</th>\n",
       "      <td>2</td>\n",
       "      <td>1504 - 30 Roehampton Ave, Toronto (C4511330) |...</td>\n",
       "      <td>550000</td>\n",
       "      <td>549900</td>\n",
       "      <td>1 beds</td>\n",
       "      <td>1 baths</td>\n",
       "      <td>500–599 sq. ft.</td>\n",
       "      <td>no parking</td>\n",
       "      <td>Bright Sunfilled Spacious 1 Bdr Unit; Floor To...</td>\n",
       "      <td>C4511330</td>\n",
       "      <td>Condo Apt</td>\n",
       "      <td>https://www.zoocasa.com/toronto-on-real-estate...</td>\n",
       "      <td>30 Roehampton Ave, Toronto , Ontario, Canada</td>\n",
       "      <td>43.708472</td>\n",
       "      <td>-79.397498</td>\n",
       "      <td>Mount Pleasant West</td>\n",
       "      <td>57039</td>\n",
       "      <td>104</td>\n",
       "      <td>TORONTO</td>\n",
       "    </tr>\n",
       "    <tr>\n",
       "      <th>3</th>\n",
       "      <td>3</td>\n",
       "      <td>514 - 65 East Liberty St, Toronto (C4515763) |...</td>\n",
       "      <td>665000</td>\n",
       "      <td>600000</td>\n",
       "      <td>1 + 1 beds</td>\n",
       "      <td>1 baths</td>\n",
       "      <td>600–699 sq. ft.</td>\n",
       "      <td>1 parking</td>\n",
       "      <td>Rare Loft-Like Condo In Liberty Village W/ 18'...</td>\n",
       "      <td>C4515763</td>\n",
       "      <td>Condo Apt</td>\n",
       "      <td>https://www.zoocasa.com/toronto-on-real-estate...</td>\n",
       "      <td>65 East Liberty St, Toronto , Ontario, Canada</td>\n",
       "      <td>43.638399</td>\n",
       "      <td>-79.414448</td>\n",
       "      <td>Niagara</td>\n",
       "      <td>70623</td>\n",
       "      <td>82</td>\n",
       "      <td>TORONTO</td>\n",
       "    </tr>\n",
       "    <tr>\n",
       "      <th>4</th>\n",
       "      <td>4</td>\n",
       "      <td>61 Twelfth St, Toronto (W4519375) | Zoocasa</td>\n",
       "      <td>825513</td>\n",
       "      <td>839000</td>\n",
       "      <td>2 beds</td>\n",
       "      <td>2 baths</td>\n",
       "      <td>N/A sq. ft.</td>\n",
       "      <td>1 parking</td>\n",
       "      <td>Location! Location! Location. Your Cottage In ...</td>\n",
       "      <td>W4519375</td>\n",
       "      <td>Detached</td>\n",
       "      <td>https://www.zoocasa.com/toronto-on-real-estate...</td>\n",
       "      <td>61 Twelfth St, Toronto , Ontario, Canada</td>\n",
       "      <td>43.597096</td>\n",
       "      <td>-79.509612</td>\n",
       "      <td>New Toronto</td>\n",
       "      <td>44101</td>\n",
       "      <td>18</td>\n",
       "      <td>TORONTO</td>\n",
       "    </tr>\n",
       "  </tbody>\n",
       "</table>\n",
       "</div>"
      ],
      "text/plain": [
       "   index                                              title  final_price  \\\n",
       "0      0  1303 - 38 Grenville St, Toronto (C4461599) | Z...       855000   \n",
       "1      1          2 Cabot Crt, Toronto (W4502992) | Zoocasa       885000   \n",
       "2      2  1504 - 30 Roehampton Ave, Toronto (C4511330) |...       550000   \n",
       "3      3  514 - 65 East Liberty St, Toronto (C4515763) |...       665000   \n",
       "4      4        61 Twelfth St, Toronto (W4519375) | Zoocasa       825513   \n",
       "\n",
       "   list_price    bedrooms bathrooms             sqft     parking  \\\n",
       "0      870000  2 + 1 beds   2 baths  800–899 sq. ft.   1 parking   \n",
       "1      898000      3 beds   2 baths      N/A sq. ft.   6 parking   \n",
       "2      549900      1 beds   1 baths  500–599 sq. ft.  no parking   \n",
       "3      600000  1 + 1 beds   1 baths  600–699 sq. ft.   1 parking   \n",
       "4      839000      2 beds   2 baths      N/A sq. ft.   1 parking   \n",
       "\n",
       "                                         description       mls           type  \\\n",
       "0  Luxurious And Spacious Murano Tower. 2+1, 2 Ba...  C4461599      Condo Apt   \n",
       "1  Fantastic Opportunity To Live Within The Histo...  W4502992  Semi-Detached   \n",
       "2  Bright Sunfilled Spacious 1 Bdr Unit; Floor To...  C4511330      Condo Apt   \n",
       "3  Rare Loft-Like Condo In Liberty Village W/ 18'...  C4515763      Condo Apt   \n",
       "4  Location! Location! Location. Your Cottage In ...  W4519375       Detached   \n",
       "\n",
       "                                           full_link  \\\n",
       "0  https://www.zoocasa.com/toronto-on-real-estate...   \n",
       "1  https://www.zoocasa.com/toronto-on-real-estate...   \n",
       "2  https://www.zoocasa.com/toronto-on-real-estate...   \n",
       "3  https://www.zoocasa.com/toronto-on-real-estate...   \n",
       "4  https://www.zoocasa.com/toronto-on-real-estate...   \n",
       "\n",
       "                                     full_address        lat       long  \\\n",
       "0      38 Grenville St, Toronto , Ontario, Canada  43.661896 -79.385748   \n",
       "1          2 Cabot Crt, Toronto , Ontario, Canada  43.646982 -79.530356   \n",
       "2    30 Roehampton Ave, Toronto , Ontario, Canada  43.708472 -79.397498   \n",
       "3   65 East Liberty St, Toronto , Ontario, Canada  43.638399 -79.414448   \n",
       "4        61 Twelfth St, Toronto , Ontario, Canada  43.597096 -79.509612   \n",
       "\n",
       "                city_district  mean_district_income  district_code     city  \n",
       "0         Bay Street Corridor                 56526             76  TORONTO  \n",
       "1  Islington-City Centre West                 52787             14  TORONTO  \n",
       "2         Mount Pleasant West                 57039            104  TORONTO  \n",
       "3                     Niagara                 70623             82  TORONTO  \n",
       "4                 New Toronto                 44101             18  TORONTO  "
      ]
     },
     "execution_count": 293,
     "metadata": {},
     "output_type": "execute_result"
    }
   ],
   "source": [
    "df.head()"
   ]
  },
  {
   "cell_type": "code",
   "execution_count": 294,
   "metadata": {},
   "outputs": [
    {
     "data": {
      "text/plain": [
       "TORONTO        15231\n",
       "MISSISSAUGA        3\n",
       "OUT                1\n",
       "Name: city, dtype: int64"
      ]
     },
     "execution_count": 294,
     "metadata": {},
     "output_type": "execute_result"
    }
   ],
   "source": [
    "## let's check the uniques of the cities in the data\n",
    "\n",
    "df[\"city\"].value_counts()"
   ]
  },
  {
   "cell_type": "code",
   "execution_count": 295,
   "metadata": {},
   "outputs": [
    {
     "data": {
      "text/plain": [
       "TORONTO        15231\n",
       "MISSISSAUGA        3\n",
       "Name: city, dtype: int64"
      ]
     },
     "execution_count": 295,
     "metadata": {},
     "output_type": "execute_result"
    }
   ],
   "source": [
    "## now we will exclude the only row with the value \"OUT\" as city\n",
    "\n",
    "df = df[df[\"city\"] != \"OUT\"]\n",
    "df[\"city\"].value_counts()"
   ]
  },
  {
   "cell_type": "code",
   "execution_count": 296,
   "metadata": {},
   "outputs": [
    {
     "data": {
      "text/plain": [
       "array([2, 3, 1, 0, 4, 5, 6, 8, 7, 9], dtype=object)"
      ]
     },
     "execution_count": 296,
     "metadata": {},
     "output_type": "execute_result"
    }
   ],
   "source": [
    "## now let's clean the bedrooms column\n",
    "\n",
    "df[\"bedrooms\"] = df[\"bedrooms\"].apply(lambda x: ' '.join(x.split(\" \")))\n",
    "\n",
    "for i,n in enumerate(df[\"bedrooms\"]):\n",
    "    df[\"bedrooms\"].iloc[i] = max([int(s) for s in n.split() if s.isdigit()])\n",
    "df[\"bedrooms\"].unique()"
   ]
  },
  {
   "cell_type": "code",
   "execution_count": 297,
   "metadata": {},
   "outputs": [
    {
     "data": {
      "text/plain": [
       "array([ 2,  1,  5,  4,  3,  6,  8,  7,  9, 14, 10, 11])"
      ]
     },
     "execution_count": 297,
     "metadata": {},
     "output_type": "execute_result"
    }
   ],
   "source": [
    "## now let's clean the bathrooms column\n",
    "\n",
    "df[\"bathrooms\"] = df[\"bathrooms\"].apply(lambda x: int(''.join(x.lower()).replace(\"baths\", '')))\n",
    "df[\"bathrooms\"].unique()"
   ]
  },
  {
   "cell_type": "code",
   "execution_count": 298,
   "metadata": {},
   "outputs": [],
   "source": [
    "## now let's clean the parking column\n",
    "df[\"parking\"] = df[\"parking\"].apply(lambda x:    str(x).replace('no parking', '0')  )\n",
    "df[\"parking\"] = df[\"parking\"].apply(lambda x:    int(str(x).replace(' parking', '')  ))\n"
   ]
  },
  {
   "cell_type": "code",
   "execution_count": 299,
   "metadata": {},
   "outputs": [
    {
     "data": {
      "text/html": [
       "<div>\n",
       "<style scoped>\n",
       "    .dataframe tbody tr th:only-of-type {\n",
       "        vertical-align: middle;\n",
       "    }\n",
       "\n",
       "    .dataframe tbody tr th {\n",
       "        vertical-align: top;\n",
       "    }\n",
       "\n",
       "    .dataframe thead th {\n",
       "        text-align: right;\n",
       "    }\n",
       "</style>\n",
       "<table border=\"1\" class=\"dataframe\">\n",
       "  <thead>\n",
       "    <tr style=\"text-align: right;\">\n",
       "      <th></th>\n",
       "      <th>bedrooms</th>\n",
       "      <th>bathrooms</th>\n",
       "      <th>city</th>\n",
       "      <th>parking</th>\n",
       "      <th>list_price</th>\n",
       "      <th>final_price</th>\n",
       "    </tr>\n",
       "  </thead>\n",
       "  <tbody>\n",
       "    <tr>\n",
       "      <th>0</th>\n",
       "      <td>2</td>\n",
       "      <td>2</td>\n",
       "      <td>TORONTO</td>\n",
       "      <td>1</td>\n",
       "      <td>870000</td>\n",
       "      <td>855000</td>\n",
       "    </tr>\n",
       "    <tr>\n",
       "      <th>1</th>\n",
       "      <td>3</td>\n",
       "      <td>2</td>\n",
       "      <td>TORONTO</td>\n",
       "      <td>6</td>\n",
       "      <td>898000</td>\n",
       "      <td>885000</td>\n",
       "    </tr>\n",
       "    <tr>\n",
       "      <th>2</th>\n",
       "      <td>1</td>\n",
       "      <td>1</td>\n",
       "      <td>TORONTO</td>\n",
       "      <td>0</td>\n",
       "      <td>549900</td>\n",
       "      <td>550000</td>\n",
       "    </tr>\n",
       "    <tr>\n",
       "      <th>3</th>\n",
       "      <td>1</td>\n",
       "      <td>1</td>\n",
       "      <td>TORONTO</td>\n",
       "      <td>1</td>\n",
       "      <td>600000</td>\n",
       "      <td>665000</td>\n",
       "    </tr>\n",
       "    <tr>\n",
       "      <th>4</th>\n",
       "      <td>2</td>\n",
       "      <td>2</td>\n",
       "      <td>TORONTO</td>\n",
       "      <td>1</td>\n",
       "      <td>839000</td>\n",
       "      <td>825513</td>\n",
       "    </tr>\n",
       "  </tbody>\n",
       "</table>\n",
       "</div>"
      ],
      "text/plain": [
       "  bedrooms  bathrooms     city  parking  list_price  final_price\n",
       "0        2          2  TORONTO        1      870000       855000\n",
       "1        3          2  TORONTO        6      898000       885000\n",
       "2        1          1  TORONTO        0      549900       550000\n",
       "3        1          1  TORONTO        1      600000       665000\n",
       "4        2          2  TORONTO        1      839000       825513"
      ]
     },
     "execution_count": 299,
     "metadata": {},
     "output_type": "execute_result"
    }
   ],
   "source": [
    "df[[\"bedrooms\", \"bathrooms\", \"city\", \"parking\", \"list_price\", \"final_price\"]].head()"
   ]
  },
  {
   "cell_type": "code",
   "execution_count": 300,
   "metadata": {},
   "outputs": [
    {
     "data": {
      "text/plain": [
       "N/A sq. ft.    4521\n",
       "Name: sqft, dtype: int64"
      ]
     },
     "execution_count": 300,
     "metadata": {},
     "output_type": "execute_result"
    }
   ],
   "source": [
    "## investigating the sqft N/A\n",
    "\n",
    "sqft_null = df[df[\"sqft\"] == \"N/A sq. ft.\"]\n",
    "sqft_null[\"sqft\"].value_counts()"
   ]
  },
  {
   "cell_type": "code",
   "execution_count": 301,
   "metadata": {},
   "outputs": [
    {
     "data": {
      "text/plain": [
       "N/A sq. ft.    3916\n",
       "Name: sqft, dtype: int64"
      ]
     },
     "execution_count": 301,
     "metadata": {},
     "output_type": "execute_result"
    }
   ],
   "source": [
    "sqft_null = sqft_null.query(\"bedrooms >= bathrooms\")\n",
    "sqft_null[\"sqft\"].value_counts()"
   ]
  },
  {
   "cell_type": "code",
   "execution_count": 302,
   "metadata": {},
   "outputs": [
    {
     "data": {
      "text/plain": [
       "1       8\n",
       "2     565\n",
       "3    2351\n",
       "4     792\n",
       "5     136\n",
       "6      42\n",
       "7       9\n",
       "8       8\n",
       "9       5\n",
       "Name: bedrooms, dtype: int64"
      ]
     },
     "execution_count": 302,
     "metadata": {},
     "output_type": "execute_result"
    }
   ],
   "source": [
    "sqft_null[\"bedrooms\"].value_counts().sort_index()"
   ]
  },
  {
   "cell_type": "code",
   "execution_count": 303,
   "metadata": {},
   "outputs": [
    {
     "data": {
      "text/plain": [
       "1    8\n",
       "Name: bathrooms, dtype: int64"
      ]
     },
     "execution_count": 303,
     "metadata": {},
     "output_type": "execute_result"
    }
   ],
   "source": [
    "sqft_null.query(\"bedrooms == 1\")[\"bathrooms\"].value_counts().sort_index()"
   ]
  },
  {
   "cell_type": "code",
   "execution_count": 304,
   "metadata": {},
   "outputs": [
    {
     "data": {
      "text/plain": [
       "1    114\n",
       "2    451\n",
       "Name: bathrooms, dtype: int64"
      ]
     },
     "execution_count": 304,
     "metadata": {},
     "output_type": "execute_result"
    }
   ],
   "source": [
    "sqft_null.query(\"bedrooms == 2\")[\"bathrooms\"].value_counts().sort_index()"
   ]
  },
  {
   "cell_type": "code",
   "execution_count": 305,
   "metadata": {},
   "outputs": [
    {
     "data": {
      "text/plain": [
       "1     194\n",
       "2    1480\n",
       "3     677\n",
       "Name: bathrooms, dtype: int64"
      ]
     },
     "execution_count": 305,
     "metadata": {},
     "output_type": "execute_result"
    }
   ],
   "source": [
    "sqft_null.query(\"bedrooms == 3\")[\"bathrooms\"].value_counts().sort_index()"
   ]
  },
  {
   "cell_type": "code",
   "execution_count": 306,
   "metadata": {},
   "outputs": [
    {
     "data": {
      "text/plain": [
       "1     10\n",
       "2    215\n",
       "3    301\n",
       "4    266\n",
       "Name: bathrooms, dtype: int64"
      ]
     },
     "execution_count": 306,
     "metadata": {},
     "output_type": "execute_result"
    }
   ],
   "source": [
    "sqft_null.query(\"bedrooms == 4\")[\"bathrooms\"].value_counts().sort_index()"
   ]
  },
  {
   "cell_type": "code",
   "execution_count": 307,
   "metadata": {},
   "outputs": [
    {
     "data": {
      "text/plain": [
       "1     1\n",
       "2    20\n",
       "3    42\n",
       "4    46\n",
       "5    27\n",
       "Name: bathrooms, dtype: int64"
      ]
     },
     "execution_count": 307,
     "metadata": {},
     "output_type": "execute_result"
    }
   ],
   "source": [
    "sqft_null.query(\"bedrooms == 5\")[\"bathrooms\"].value_counts().sort_index()"
   ]
  },
  {
   "cell_type": "code",
   "execution_count": 308,
   "metadata": {},
   "outputs": [
    {
     "data": {
      "text/plain": [
       "1     1\n",
       "2     2\n",
       "3    15\n",
       "4     8\n",
       "5     9\n",
       "6     7\n",
       "Name: bathrooms, dtype: int64"
      ]
     },
     "execution_count": 308,
     "metadata": {},
     "output_type": "execute_result"
    }
   ],
   "source": [
    "sqft_null.query(\"bedrooms == 6\")[\"bathrooms\"].value_counts().sort_index()"
   ]
  },
  {
   "cell_type": "code",
   "execution_count": 309,
   "metadata": {},
   "outputs": [
    {
     "data": {
      "text/plain": [
       "3    1\n",
       "4    4\n",
       "6    3\n",
       "7    1\n",
       "Name: bathrooms, dtype: int64"
      ]
     },
     "execution_count": 309,
     "metadata": {},
     "output_type": "execute_result"
    }
   ],
   "source": [
    "sqft_null.query(\"bedrooms == 7\")[\"bathrooms\"].value_counts().sort_index()"
   ]
  },
  {
   "cell_type": "code",
   "execution_count": 310,
   "metadata": {},
   "outputs": [
    {
     "data": {
      "text/plain": [
       "3    1\n",
       "4    2\n",
       "6    2\n",
       "7    2\n",
       "8    1\n",
       "Name: bathrooms, dtype: int64"
      ]
     },
     "execution_count": 310,
     "metadata": {},
     "output_type": "execute_result"
    }
   ],
   "source": [
    "sqft_null.query(\"bedrooms == 8\")[\"bathrooms\"].value_counts().sort_index()"
   ]
  },
  {
   "cell_type": "code",
   "execution_count": 311,
   "metadata": {},
   "outputs": [
    {
     "data": {
      "text/plain": [
       "4    1\n",
       "6    2\n",
       "7    1\n",
       "8    1\n",
       "Name: bathrooms, dtype: int64"
      ]
     },
     "execution_count": 311,
     "metadata": {},
     "output_type": "execute_result"
    }
   ],
   "source": [
    "sqft_null.query(\"bedrooms == 9\")[\"bathrooms\"].value_counts().sort_index()"
   ]
  },
  {
   "cell_type": "code",
   "execution_count": 312,
   "metadata": {},
   "outputs": [],
   "source": [
    "## cleaning the type column\n",
    "\n",
    "df[\"type\"] = df[\"type\"].str.upper()\n",
    "\n",
    "for i,t in enumerate(df[\"type\"]):\n",
    "    if \"APT\" in t:\n",
    "        df[\"type\"].iloc[i] = \"APT\"\n",
    "    elif \"CONDO\" in t:\n",
    "        df[\"type\"].iloc[i] = \"CONDO\"\n",
    "    elif \"DETACHED\" in t:\n",
    "        df[\"type\"].iloc[i] = \"DETACHED_HOUSE\"\n",
    "    elif \"TWNHOUSE\" in t:\n",
    "        df[\"type\"].iloc[i] = \"TWNHOUSE\"\n",
    "df[\"type\"] = df[\"type\"][df[\"type\"] != \"COTTAGE\"][df[\"type\"] != \"FOURPLEX\"]"
   ]
  },
  {
   "cell_type": "code",
   "execution_count": 313,
   "metadata": {},
   "outputs": [
    {
     "data": {
      "text/html": [
       "<div>\n",
       "<style scoped>\n",
       "    .dataframe tbody tr th:only-of-type {\n",
       "        vertical-align: middle;\n",
       "    }\n",
       "\n",
       "    .dataframe tbody tr th {\n",
       "        vertical-align: top;\n",
       "    }\n",
       "\n",
       "    .dataframe thead th {\n",
       "        text-align: right;\n",
       "    }\n",
       "</style>\n",
       "<table border=\"1\" class=\"dataframe\">\n",
       "  <thead>\n",
       "    <tr style=\"text-align: right;\">\n",
       "      <th></th>\n",
       "      <th>index</th>\n",
       "      <th>title</th>\n",
       "      <th>final_price</th>\n",
       "      <th>list_price</th>\n",
       "      <th>bedrooms</th>\n",
       "      <th>bathrooms</th>\n",
       "      <th>sqft</th>\n",
       "      <th>parking</th>\n",
       "      <th>description</th>\n",
       "      <th>mls</th>\n",
       "      <th>type</th>\n",
       "      <th>full_link</th>\n",
       "      <th>full_address</th>\n",
       "      <th>lat</th>\n",
       "      <th>long</th>\n",
       "      <th>city_district</th>\n",
       "      <th>mean_district_income</th>\n",
       "      <th>district_code</th>\n",
       "      <th>city</th>\n",
       "    </tr>\n",
       "  </thead>\n",
       "  <tbody>\n",
       "    <tr>\n",
       "      <th>0</th>\n",
       "      <td>0</td>\n",
       "      <td>1303 - 38 Grenville St, Toronto (C4461599) | Z...</td>\n",
       "      <td>855000</td>\n",
       "      <td>870000</td>\n",
       "      <td>2</td>\n",
       "      <td>2</td>\n",
       "      <td>800–899 sq. ft.</td>\n",
       "      <td>1</td>\n",
       "      <td>Luxurious And Spacious Murano Tower. 2+1, 2 Ba...</td>\n",
       "      <td>C4461599</td>\n",
       "      <td>APT</td>\n",
       "      <td>https://www.zoocasa.com/toronto-on-real-estate...</td>\n",
       "      <td>38 Grenville St, Toronto , Ontario, Canada</td>\n",
       "      <td>43.661896</td>\n",
       "      <td>-79.385748</td>\n",
       "      <td>Bay Street Corridor</td>\n",
       "      <td>56526</td>\n",
       "      <td>76</td>\n",
       "      <td>TORONTO</td>\n",
       "    </tr>\n",
       "    <tr>\n",
       "      <th>1</th>\n",
       "      <td>1</td>\n",
       "      <td>2 Cabot Crt, Toronto (W4502992) | Zoocasa</td>\n",
       "      <td>885000</td>\n",
       "      <td>898000</td>\n",
       "      <td>3</td>\n",
       "      <td>2</td>\n",
       "      <td>N/A sq. ft.</td>\n",
       "      <td>6</td>\n",
       "      <td>Fantastic Opportunity To Live Within The Histo...</td>\n",
       "      <td>W4502992</td>\n",
       "      <td>DETACHED_HOUSE</td>\n",
       "      <td>https://www.zoocasa.com/toronto-on-real-estate...</td>\n",
       "      <td>2 Cabot Crt, Toronto , Ontario, Canada</td>\n",
       "      <td>43.646982</td>\n",
       "      <td>-79.530356</td>\n",
       "      <td>Islington-City Centre West</td>\n",
       "      <td>52787</td>\n",
       "      <td>14</td>\n",
       "      <td>TORONTO</td>\n",
       "    </tr>\n",
       "    <tr>\n",
       "      <th>2</th>\n",
       "      <td>2</td>\n",
       "      <td>1504 - 30 Roehampton Ave, Toronto (C4511330) |...</td>\n",
       "      <td>550000</td>\n",
       "      <td>549900</td>\n",
       "      <td>1</td>\n",
       "      <td>1</td>\n",
       "      <td>500–599 sq. ft.</td>\n",
       "      <td>0</td>\n",
       "      <td>Bright Sunfilled Spacious 1 Bdr Unit; Floor To...</td>\n",
       "      <td>C4511330</td>\n",
       "      <td>APT</td>\n",
       "      <td>https://www.zoocasa.com/toronto-on-real-estate...</td>\n",
       "      <td>30 Roehampton Ave, Toronto , Ontario, Canada</td>\n",
       "      <td>43.708472</td>\n",
       "      <td>-79.397498</td>\n",
       "      <td>Mount Pleasant West</td>\n",
       "      <td>57039</td>\n",
       "      <td>104</td>\n",
       "      <td>TORONTO</td>\n",
       "    </tr>\n",
       "    <tr>\n",
       "      <th>3</th>\n",
       "      <td>3</td>\n",
       "      <td>514 - 65 East Liberty St, Toronto (C4515763) |...</td>\n",
       "      <td>665000</td>\n",
       "      <td>600000</td>\n",
       "      <td>1</td>\n",
       "      <td>1</td>\n",
       "      <td>600–699 sq. ft.</td>\n",
       "      <td>1</td>\n",
       "      <td>Rare Loft-Like Condo In Liberty Village W/ 18'...</td>\n",
       "      <td>C4515763</td>\n",
       "      <td>APT</td>\n",
       "      <td>https://www.zoocasa.com/toronto-on-real-estate...</td>\n",
       "      <td>65 East Liberty St, Toronto , Ontario, Canada</td>\n",
       "      <td>43.638399</td>\n",
       "      <td>-79.414448</td>\n",
       "      <td>Niagara</td>\n",
       "      <td>70623</td>\n",
       "      <td>82</td>\n",
       "      <td>TORONTO</td>\n",
       "    </tr>\n",
       "    <tr>\n",
       "      <th>4</th>\n",
       "      <td>4</td>\n",
       "      <td>61 Twelfth St, Toronto (W4519375) | Zoocasa</td>\n",
       "      <td>825513</td>\n",
       "      <td>839000</td>\n",
       "      <td>2</td>\n",
       "      <td>2</td>\n",
       "      <td>N/A sq. ft.</td>\n",
       "      <td>1</td>\n",
       "      <td>Location! Location! Location. Your Cottage In ...</td>\n",
       "      <td>W4519375</td>\n",
       "      <td>DETACHED_HOUSE</td>\n",
       "      <td>https://www.zoocasa.com/toronto-on-real-estate...</td>\n",
       "      <td>61 Twelfth St, Toronto , Ontario, Canada</td>\n",
       "      <td>43.597096</td>\n",
       "      <td>-79.509612</td>\n",
       "      <td>New Toronto</td>\n",
       "      <td>44101</td>\n",
       "      <td>18</td>\n",
       "      <td>TORONTO</td>\n",
       "    </tr>\n",
       "    <tr>\n",
       "      <th>...</th>\n",
       "      <td>...</td>\n",
       "      <td>...</td>\n",
       "      <td>...</td>\n",
       "      <td>...</td>\n",
       "      <td>...</td>\n",
       "      <td>...</td>\n",
       "      <td>...</td>\n",
       "      <td>...</td>\n",
       "      <td>...</td>\n",
       "      <td>...</td>\n",
       "      <td>...</td>\n",
       "      <td>...</td>\n",
       "      <td>...</td>\n",
       "      <td>...</td>\n",
       "      <td>...</td>\n",
       "      <td>...</td>\n",
       "      <td>...</td>\n",
       "      <td>...</td>\n",
       "      <td>...</td>\n",
       "    </tr>\n",
       "    <tr>\n",
       "      <th>15231</th>\n",
       "      <td>17539</td>\n",
       "      <td>1802 - 125 Peter St, Toronto (C4327974) | Zoocasa</td>\n",
       "      <td>785000</td>\n",
       "      <td>799000</td>\n",
       "      <td>2</td>\n",
       "      <td>2</td>\n",
       "      <td>700–799 sq. ft.</td>\n",
       "      <td>1</td>\n",
       "      <td>Tableau Condo - Right In The Middle Of The Ent...</td>\n",
       "      <td>C4327974</td>\n",
       "      <td>APT</td>\n",
       "      <td>https://www.zoocasa.com/toronto-on-real-estate...</td>\n",
       "      <td>125 Peter St, Toronto , Ontario, Canada</td>\n",
       "      <td>43.648317</td>\n",
       "      <td>-79.393065</td>\n",
       "      <td>Waterfront Communities-The Island</td>\n",
       "      <td>70600</td>\n",
       "      <td>77</td>\n",
       "      <td>TORONTO</td>\n",
       "    </tr>\n",
       "    <tr>\n",
       "      <th>15232</th>\n",
       "      <td>17540</td>\n",
       "      <td>179 Raleigh Ave, Toronto (E4327933) | Zoocasa</td>\n",
       "      <td>1025000</td>\n",
       "      <td>998888</td>\n",
       "      <td>5</td>\n",
       "      <td>5</td>\n",
       "      <td>3000–3500 sq. ft.</td>\n",
       "      <td>2</td>\n",
       "      <td>New Years Special. Brand New House. Beautiful ...</td>\n",
       "      <td>E4327933</td>\n",
       "      <td>DETACHED_HOUSE</td>\n",
       "      <td>https://www.zoocasa.com/toronto-on-real-estate...</td>\n",
       "      <td>179 Raleigh Ave, Toronto , Ontario, Canada</td>\n",
       "      <td>43.706338</td>\n",
       "      <td>-79.262789</td>\n",
       "      <td>Clairlea-Birchmount</td>\n",
       "      <td>36232</td>\n",
       "      <td>120</td>\n",
       "      <td>TORONTO</td>\n",
       "    </tr>\n",
       "    <tr>\n",
       "      <th>15233</th>\n",
       "      <td>17541</td>\n",
       "      <td>68 Stagecoach Circ, Toronto (E4327881) | Zoocasa</td>\n",
       "      <td>681000</td>\n",
       "      <td>650000</td>\n",
       "      <td>3</td>\n",
       "      <td>3</td>\n",
       "      <td>N/A sq. ft.</td>\n",
       "      <td>1</td>\n",
       "      <td>Absolutely Beautiful **Freehold ** **End Unit*...</td>\n",
       "      <td>E4327881</td>\n",
       "      <td>TWNHOUSE</td>\n",
       "      <td>https://www.zoocasa.com/toronto-on-real-estate...</td>\n",
       "      <td>68 Stagecoach Cir, Toronto , Ontario, Canada</td>\n",
       "      <td>43.788258</td>\n",
       "      <td>-79.160342</td>\n",
       "      <td>Centennial Scarborough</td>\n",
       "      <td>54045</td>\n",
       "      <td>133</td>\n",
       "      <td>TORONTO</td>\n",
       "    </tr>\n",
       "    <tr>\n",
       "      <th>15234</th>\n",
       "      <td>17542</td>\n",
       "      <td>1706 - 365 Church St, Toronto (C4330888) | Zoo...</td>\n",
       "      <td>590000</td>\n",
       "      <td>590000</td>\n",
       "      <td>1</td>\n",
       "      <td>1</td>\n",
       "      <td>500–599 sq. ft.</td>\n",
       "      <td>0</td>\n",
       "      <td>One Year New Luxury Condo Built By Menkes. Hig...</td>\n",
       "      <td>C4330888</td>\n",
       "      <td>APT</td>\n",
       "      <td>https://www.zoocasa.com/toronto-on-real-estate...</td>\n",
       "      <td>365 Church St, Toronto , Ontario, Canada</td>\n",
       "      <td>43.660846</td>\n",
       "      <td>-79.378756</td>\n",
       "      <td>Church-Yonge Corridor</td>\n",
       "      <td>53583</td>\n",
       "      <td>75</td>\n",
       "      <td>TORONTO</td>\n",
       "    </tr>\n",
       "    <tr>\n",
       "      <th>15235</th>\n",
       "      <td>17543</td>\n",
       "      <td>43 Kalmar Ave, Toronto (E4331128) | Zoocasa</td>\n",
       "      <td>530000</td>\n",
       "      <td>530000</td>\n",
       "      <td>2</td>\n",
       "      <td>2</td>\n",
       "      <td>N/A sq. ft.</td>\n",
       "      <td>4</td>\n",
       "      <td>Great Builder Lot In Birchcliff Village. Can B...</td>\n",
       "      <td>E4331128</td>\n",
       "      <td>DETACHED_HOUSE</td>\n",
       "      <td>https://www.zoocasa.com/toronto-on-real-estate...</td>\n",
       "      <td>43 Kalmar Ave, Toronto , Ontario, Canada</td>\n",
       "      <td>43.691296</td>\n",
       "      <td>-79.268417</td>\n",
       "      <td>Birchcliffe-Cliffside</td>\n",
       "      <td>54360</td>\n",
       "      <td>122</td>\n",
       "      <td>TORONTO</td>\n",
       "    </tr>\n",
       "  </tbody>\n",
       "</table>\n",
       "<p>13310 rows × 19 columns</p>\n",
       "</div>"
      ],
      "text/plain": [
       "       index                                              title  final_price  \\\n",
       "0          0  1303 - 38 Grenville St, Toronto (C4461599) | Z...       855000   \n",
       "1          1          2 Cabot Crt, Toronto (W4502992) | Zoocasa       885000   \n",
       "2          2  1504 - 30 Roehampton Ave, Toronto (C4511330) |...       550000   \n",
       "3          3  514 - 65 East Liberty St, Toronto (C4515763) |...       665000   \n",
       "4          4        61 Twelfth St, Toronto (W4519375) | Zoocasa       825513   \n",
       "...      ...                                                ...          ...   \n",
       "15231  17539  1802 - 125 Peter St, Toronto (C4327974) | Zoocasa       785000   \n",
       "15232  17540      179 Raleigh Ave, Toronto (E4327933) | Zoocasa      1025000   \n",
       "15233  17541   68 Stagecoach Circ, Toronto (E4327881) | Zoocasa       681000   \n",
       "15234  17542  1706 - 365 Church St, Toronto (C4330888) | Zoo...       590000   \n",
       "15235  17543        43 Kalmar Ave, Toronto (E4331128) | Zoocasa       530000   \n",
       "\n",
       "       list_price bedrooms  bathrooms               sqft  parking  \\\n",
       "0          870000        2          2    800–899 sq. ft.        1   \n",
       "1          898000        3          2        N/A sq. ft.        6   \n",
       "2          549900        1          1    500–599 sq. ft.        0   \n",
       "3          600000        1          1    600–699 sq. ft.        1   \n",
       "4          839000        2          2        N/A sq. ft.        1   \n",
       "...           ...      ...        ...                ...      ...   \n",
       "15231      799000        2          2    700–799 sq. ft.        1   \n",
       "15232      998888        5          5  3000–3500 sq. ft.        2   \n",
       "15233      650000        3          3        N/A sq. ft.        1   \n",
       "15234      590000        1          1    500–599 sq. ft.        0   \n",
       "15235      530000        2          2        N/A sq. ft.        4   \n",
       "\n",
       "                                             description       mls  \\\n",
       "0      Luxurious And Spacious Murano Tower. 2+1, 2 Ba...  C4461599   \n",
       "1      Fantastic Opportunity To Live Within The Histo...  W4502992   \n",
       "2      Bright Sunfilled Spacious 1 Bdr Unit; Floor To...  C4511330   \n",
       "3      Rare Loft-Like Condo In Liberty Village W/ 18'...  C4515763   \n",
       "4      Location! Location! Location. Your Cottage In ...  W4519375   \n",
       "...                                                  ...       ...   \n",
       "15231  Tableau Condo - Right In The Middle Of The Ent...  C4327974   \n",
       "15232  New Years Special. Brand New House. Beautiful ...  E4327933   \n",
       "15233  Absolutely Beautiful **Freehold ** **End Unit*...  E4327881   \n",
       "15234  One Year New Luxury Condo Built By Menkes. Hig...  C4330888   \n",
       "15235  Great Builder Lot In Birchcliff Village. Can B...  E4331128   \n",
       "\n",
       "                 type                                          full_link  \\\n",
       "0                 APT  https://www.zoocasa.com/toronto-on-real-estate...   \n",
       "1      DETACHED_HOUSE  https://www.zoocasa.com/toronto-on-real-estate...   \n",
       "2                 APT  https://www.zoocasa.com/toronto-on-real-estate...   \n",
       "3                 APT  https://www.zoocasa.com/toronto-on-real-estate...   \n",
       "4      DETACHED_HOUSE  https://www.zoocasa.com/toronto-on-real-estate...   \n",
       "...               ...                                                ...   \n",
       "15231             APT  https://www.zoocasa.com/toronto-on-real-estate...   \n",
       "15232  DETACHED_HOUSE  https://www.zoocasa.com/toronto-on-real-estate...   \n",
       "15233        TWNHOUSE  https://www.zoocasa.com/toronto-on-real-estate...   \n",
       "15234             APT  https://www.zoocasa.com/toronto-on-real-estate...   \n",
       "15235  DETACHED_HOUSE  https://www.zoocasa.com/toronto-on-real-estate...   \n",
       "\n",
       "                                         full_address        lat       long  \\\n",
       "0          38 Grenville St, Toronto , Ontario, Canada  43.661896 -79.385748   \n",
       "1              2 Cabot Crt, Toronto , Ontario, Canada  43.646982 -79.530356   \n",
       "2        30 Roehampton Ave, Toronto , Ontario, Canada  43.708472 -79.397498   \n",
       "3       65 East Liberty St, Toronto , Ontario, Canada  43.638399 -79.414448   \n",
       "4            61 Twelfth St, Toronto , Ontario, Canada  43.597096 -79.509612   \n",
       "...                                               ...        ...        ...   \n",
       "15231         125 Peter St, Toronto , Ontario, Canada  43.648317 -79.393065   \n",
       "15232      179 Raleigh Ave, Toronto , Ontario, Canada  43.706338 -79.262789   \n",
       "15233    68 Stagecoach Cir, Toronto , Ontario, Canada  43.788258 -79.160342   \n",
       "15234        365 Church St, Toronto , Ontario, Canada  43.660846 -79.378756   \n",
       "15235        43 Kalmar Ave, Toronto , Ontario, Canada  43.691296 -79.268417   \n",
       "\n",
       "                           city_district  mean_district_income  district_code  \\\n",
       "0                    Bay Street Corridor                 56526             76   \n",
       "1             Islington-City Centre West                 52787             14   \n",
       "2                    Mount Pleasant West                 57039            104   \n",
       "3                                Niagara                 70623             82   \n",
       "4                            New Toronto                 44101             18   \n",
       "...                                  ...                   ...            ...   \n",
       "15231  Waterfront Communities-The Island                 70600             77   \n",
       "15232                Clairlea-Birchmount                 36232            120   \n",
       "15233             Centennial Scarborough                 54045            133   \n",
       "15234              Church-Yonge Corridor                 53583             75   \n",
       "15235              Birchcliffe-Cliffside                 54360            122   \n",
       "\n",
       "          city  \n",
       "0      TORONTO  \n",
       "1      TORONTO  \n",
       "2      TORONTO  \n",
       "3      TORONTO  \n",
       "4      TORONTO  \n",
       "...        ...  \n",
       "15231  TORONTO  \n",
       "15232  TORONTO  \n",
       "15233  TORONTO  \n",
       "15234  TORONTO  \n",
       "15235  TORONTO  \n",
       "\n",
       "[13310 rows x 19 columns]"
      ]
     },
     "execution_count": 313,
     "metadata": {},
     "output_type": "execute_result"
    }
   ],
   "source": [
    "df = df.query(\"bedrooms >= bathrooms\")\n",
    "df"
   ]
  },
  {
   "cell_type": "markdown",
   "metadata": {},
   "source": [
    "## now let's create the cleaning function to be used as our base for the rest of the work"
   ]
  },
  {
   "cell_type": "code",
   "execution_count": 314,
   "metadata": {},
   "outputs": [],
   "source": [
    "def cleansing_function(df):\n",
    "    df = df.copy()\n",
    "    abnType = df['type'].unique()[5] ## taking out the abnormal hosue type\n",
    "    df = df[df['type']!= abnType]\n",
    "    ## checking all the cities that are in the data\n",
    "\n",
    "    '''\n",
    "    we are going to split the data using the \",\" and then split based on teh space and get the city from each one,\n",
    "\n",
    "    This will be added to a new column called \"city\"\n",
    "    '''\n",
    "    df[\"city\"] = df[\"full_address\"].apply(lambda x: x.split(\",\")[1].split(\" \")[1].upper())\n",
    "    ## now we will exclude the only row with the value \"OUT\" as city\n",
    "\n",
    "    df = df[df[\"city\"] != \"OUT\"]\n",
    "    ## now let's clean the bedrooms column\n",
    "\n",
    "    df[\"bedrooms\"] = df[\"bedrooms\"].apply(lambda x: ' '.join(x.split(\" \")))\n",
    "\n",
    "    for i,n in enumerate(df[\"bedrooms\"]):\n",
    "        df[\"bedrooms\"].iloc[i] = max([int(s) for s in n.split() if s.isdigit()])\n",
    "    ## now let's clean the bathrooms column\n",
    "\n",
    "    df[\"bathrooms\"] = df[\"bathrooms\"].apply(lambda x: int(''.join(x.lower()).replace(\"baths\", '')))\n",
    "    ## now let's clean the parking column\n",
    "    df[\"parking\"] = df[\"parking\"].apply(lambda x:    str(x).replace('no parking', '0')  )\n",
    "    df[\"parking\"] = df[\"parking\"].apply(lambda x:    int(str(x).replace(' parking', '')  ))\n",
    "    \n",
    "    ## cleaning the type column\n",
    "\n",
    "    df[\"type\"] = df[\"type\"].str.upper()\n",
    "\n",
    "    for i,t in enumerate(df[\"type\"]):\n",
    "        if \"APT\" in t:\n",
    "            df[\"type\"].iloc[i] = \"APT\"\n",
    "        elif \"CONDO\" in t:\n",
    "            df[\"type\"].iloc[i] = \"CONDO\"\n",
    "        elif \"DETACHED\" in t:\n",
    "            df[\"type\"].iloc[i] = \"DETACHED_HOUSE\"\n",
    "        elif \"TWNHOUSE\" in t:\n",
    "            df[\"type\"].iloc[i] = \"TWNHOUSE\"\n",
    "    df[\"type\"] = df[\"type\"][df[\"type\"] != \"COTTAGE\"][df[\"type\"] != \"FOURPLEX\"]\n",
    "    \n",
    "    ## counting out rows that have bathrooms more than bedrooms\n",
    "    df = df.query(\"bedrooms >= bathrooms\")\n",
    "    return df\n"
   ]
  },
  {
   "cell_type": "code",
   "execution_count": 315,
   "metadata": {},
   "outputs": [
    {
     "data": {
      "text/plain": [
       "N/A sq. ft.          3916\n",
       "600–699 sq. ft.      1477\n",
       "500–599 sq. ft.      1123\n",
       "1000–1199 sq. ft.    1071\n",
       "700–799 sq. ft.       959\n",
       "800–899 sq. ft.       940\n",
       "1200–1399 sq. ft.     755\n",
       "900–999 sq. ft.       751\n",
       "1500–2000 sq. ft.     406\n",
       "1100–1500 sq. ft.     374\n",
       "1400–1599 sq. ft.     350\n",
       "2000–2500 sq. ft.     281\n",
       "0-499 sq. ft.         257\n",
       "1600–1799 sq. ft.     164\n",
       "2500–3000 sq. ft.     138\n",
       "700–1100 sq. ft.       89\n",
       "3500–5000 sq. ft.      61\n",
       "3000–3500 sq. ft.      61\n",
       "1800–1999 sq. ft.      58\n",
       "2000–2249 sq. ft.      47\n",
       "2250–2499 sq. ft.      15\n",
       "2750–2999 sq. ft.       5\n",
       "2500–2749 sq. ft.       3\n",
       "3250–3499 sq. ft.       2\n",
       "3000–3249 sq. ft.       2\n",
       "900–1099 sq. ft.        2\n",
       "500–699 sq. ft.         1\n",
       "1100–1299 sq. ft.       1\n",
       "700–899 sq. ft.         1\n",
       "Name: sqft, dtype: int64"
      ]
     },
     "execution_count": 315,
     "metadata": {},
     "output_type": "execute_result"
    }
   ],
   "source": [
    "df[\"sqft\"].value_counts()"
   ]
  },
  {
   "cell_type": "code",
   "execution_count": 316,
   "metadata": {},
   "outputs": [
    {
     "data": {
      "text/plain": [
       "APT               6885\n",
       "DETACHED_HOUSE    4862\n",
       "CONDO             1105\n",
       "TWNHOUSE           378\n",
       "DUPLEX              26\n",
       "TRIPLEX             20\n",
       "LINK                19\n",
       "MULTIPLEX           13\n",
       "Name: type, dtype: int64"
      ]
     },
     "execution_count": 316,
     "metadata": {},
     "output_type": "execute_result"
    }
   ],
   "source": [
    "df[\"type\"].value_counts()"
   ]
  },
  {
   "cell_type": "code",
   "execution_count": 317,
   "metadata": {},
   "outputs": [
    {
     "data": {
      "text/plain": [
       "7105"
      ]
     },
     "execution_count": 317,
     "metadata": {},
     "output_type": "execute_result"
    }
   ],
   "source": [
    "len(df[\"long\"].unique())"
   ]
  },
  {
   "cell_type": "code",
   "execution_count": 318,
   "metadata": {},
   "outputs": [
    {
     "data": {
      "text/plain": [
       "7325"
      ]
     },
     "execution_count": 318,
     "metadata": {},
     "output_type": "execute_result"
    }
   ],
   "source": [
    "len(df[\"lat\"].unique())"
   ]
  },
  {
   "cell_type": "code",
   "execution_count": 320,
   "metadata": {},
   "outputs": [
    {
     "data": {
      "text/plain": [
       "(13310, 19)"
      ]
     },
     "execution_count": 320,
     "metadata": {},
     "output_type": "execute_result"
    }
   ],
   "source": [
    "df.shape"
   ]
  },
  {
   "cell_type": "code",
   "execution_count": null,
   "metadata": {},
   "outputs": [],
   "source": []
  },
  {
   "cell_type": "code",
   "execution_count": null,
   "metadata": {},
   "outputs": [],
   "source": []
  },
  {
   "cell_type": "code",
   "execution_count": null,
   "metadata": {},
   "outputs": [],
   "source": []
  }
 ],
 "metadata": {
  "kernelspec": {
   "display_name": "Python 3",
   "language": "python",
   "name": "python3"
  },
  "language_info": {
   "codemirror_mode": {
    "name": "ipython",
    "version": 3
   },
   "file_extension": ".py",
   "mimetype": "text/x-python",
   "name": "python",
   "nbconvert_exporter": "python",
   "pygments_lexer": "ipython3",
   "version": "3.7.6"
  }
 },
 "nbformat": 4,
 "nbformat_minor": 4
}
